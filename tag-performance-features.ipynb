{
 "cells": [
  {
   "cell_type": "markdown",
   "metadata": {
    "papermill": {
     "duration": 0.014004,
     "end_time": "2020-12-14T05:24:32.753161",
     "exception": false,
     "start_time": "2020-12-14T05:24:32.739157",
     "status": "completed"
    },
    "tags": []
   },
   "source": [
    "In this notebook, I will generate four objects to represent each user's performance on different tags, and all-user's performance on different tags."
   ]
  },
  {
   "cell_type": "code",
   "execution_count": 1,
   "metadata": {
    "_cell_guid": "79c7e3d0-c299-4dcb-8224-4455121ee9b0",
    "_uuid": "d629ff2d2480ee46fbb7e2d37f6b5fab8052498a",
    "execution": {
     "iopub.execute_input": "2020-12-14T05:24:32.778433Z",
     "iopub.status.busy": "2020-12-14T05:24:32.777757Z",
     "iopub.status.idle": "2020-12-14T05:24:32.782693Z",
     "shell.execute_reply": "2020-12-14T05:24:32.783361Z"
    },
    "papermill": {
     "duration": 0.019316,
     "end_time": "2020-12-14T05:24:32.783550",
     "exception": false,
     "start_time": "2020-12-14T05:24:32.764234",
     "status": "completed"
    },
    "tags": []
   },
   "outputs": [],
   "source": [
    "import numpy as np\n",
    "import pandas as pd\n",
    "from tqdm import tqdm"
   ]
  },
  {
   "cell_type": "markdown",
   "metadata": {
    "papermill": {
     "duration": 0.010533,
     "end_time": "2020-12-14T05:24:32.805278",
     "exception": false,
     "start_time": "2020-12-14T05:24:32.794745",
     "status": "completed"
    },
    "tags": []
   },
   "source": [
    "Loading train.csv"
   ]
  },
  {
   "cell_type": "code",
   "execution_count": 2,
   "metadata": {
    "execution": {
     "iopub.execute_input": "2020-12-14T05:24:32.830264Z",
     "iopub.status.busy": "2020-12-14T05:24:32.829551Z",
     "iopub.status.idle": "2020-12-14T05:24:33.019760Z",
     "shell.execute_reply": "2020-12-14T05:24:33.020388Z"
    },
    "papermill": {
     "duration": 0.204415,
     "end_time": "2020-12-14T05:24:33.020542",
     "exception": false,
     "start_time": "2020-12-14T05:24:32.816127",
     "status": "completed"
    },
    "tags": []
   },
   "outputs": [],
   "source": [
    "train_dtypes_dict = {\n",
    "    \"row_id\": \"int64\",\n",
    "    #\"timestamp\": \"int64\",\n",
    "    \"user_id\": \"int32\",\n",
    "    \"content_id\": \"int16\",\n",
    "    \"content_type_id\": \"int8\",\n",
    "    #\"task_container_id\": \"int16\",\n",
    "    #\"user_answer\": \"int8\",\n",
    "    \"answered_correctly\": \"int8\",\n",
    "    #\"prior_question_elapsed_time\": \"float32\", \n",
    "    #\"prior_question_had_explanation\": \"boolean\"\n",
    "}\n",
    "\n",
    "train_data = pd.read_csv(\"../input/riiid-test-answer-prediction/train.csv\",\n",
    "                         nrows=10**5,\n",
    "                         usecols = train_dtypes_dict.keys(),\n",
    "                         dtype=train_dtypes_dict,\n",
    "                         #index_col = 0,\n",
    "                        )\n",
    "train_data = train_data[train_data.content_type_id == 0]"
   ]
  },
  {
   "cell_type": "markdown",
   "metadata": {
    "papermill": {
     "duration": 0.010761,
     "end_time": "2020-12-14T05:24:33.042681",
     "exception": false,
     "start_time": "2020-12-14T05:24:33.031920",
     "status": "completed"
    },
    "tags": []
   },
   "source": [
    "Loading questions.csv"
   ]
  },
  {
   "cell_type": "code",
   "execution_count": 3,
   "metadata": {
    "execution": {
     "iopub.execute_input": "2020-12-14T05:24:33.068337Z",
     "iopub.status.busy": "2020-12-14T05:24:33.067612Z",
     "iopub.status.idle": "2020-12-14T05:24:33.089358Z",
     "shell.execute_reply": "2020-12-14T05:24:33.089951Z"
    },
    "papermill": {
     "duration": 0.036218,
     "end_time": "2020-12-14T05:24:33.090111",
     "exception": false,
     "start_time": "2020-12-14T05:24:33.053893",
     "status": "completed"
    },
    "tags": []
   },
   "outputs": [],
   "source": [
    "question_dtype = {\n",
    "    'question_id':'int16',\n",
    "    'tags':'object'\n",
    "}\n",
    "questions_data = pd.read_csv('../input/riiid-test-answer-prediction/questions.csv',\n",
    "                             usecols = question_dtype.keys(), \n",
    "                             dtype = question_dtype)"
   ]
  },
  {
   "cell_type": "markdown",
   "metadata": {
    "papermill": {
     "duration": 0.010865,
     "end_time": "2020-12-14T05:24:33.112271",
     "exception": false,
     "start_time": "2020-12-14T05:24:33.101406",
     "status": "completed"
    },
    "tags": []
   },
   "source": [
    "There is a question without a tag. Fill a tag if you want."
   ]
  },
  {
   "cell_type": "code",
   "execution_count": 4,
   "metadata": {
    "execution": {
     "iopub.execute_input": "2020-12-14T05:24:33.137899Z",
     "iopub.status.busy": "2020-12-14T05:24:33.137272Z",
     "iopub.status.idle": "2020-12-14T05:24:33.151820Z",
     "shell.execute_reply": "2020-12-14T05:24:33.152629Z"
    },
    "papermill": {
     "duration": 0.029406,
     "end_time": "2020-12-14T05:24:33.152830",
     "exception": false,
     "start_time": "2020-12-14T05:24:33.123424",
     "status": "completed"
    },
    "tags": []
   },
   "outputs": [
    {
     "name": "stdout",
     "output_type": "stream",
     "text": [
      "       question_id tags\n",
      "10033        10033  NaN\n"
     ]
    }
   ],
   "source": [
    "print(questions_data.loc[questions_data.tags.isnull()])\n",
    "questions_data.tags.fillna('92',inplace=True)"
   ]
  },
  {
   "cell_type": "markdown",
   "metadata": {
    "papermill": {
     "duration": 0.011465,
     "end_time": "2020-12-14T05:24:33.177624",
     "exception": false,
     "start_time": "2020-12-14T05:24:33.166159",
     "status": "completed"
    },
    "tags": []
   },
   "source": [
    "How many questions? How many tags?"
   ]
  },
  {
   "cell_type": "code",
   "execution_count": 5,
   "metadata": {
    "execution": {
     "iopub.execute_input": "2020-12-14T05:24:33.204718Z",
     "iopub.status.busy": "2020-12-14T05:24:33.204035Z",
     "iopub.status.idle": "2020-12-14T05:24:33.433451Z",
     "shell.execute_reply": "2020-12-14T05:24:33.432842Z"
    },
    "papermill": {
     "duration": 0.244244,
     "end_time": "2020-12-14T05:24:33.433580",
     "exception": false,
     "start_time": "2020-12-14T05:24:33.189336",
     "status": "completed"
    },
    "tags": []
   },
   "outputs": [
    {
     "name": "stdout",
     "output_type": "stream",
     "text": [
      "13523\n",
      "{'181', '97', '147', '95', '32', '152', '106', '45', '75', '139', '115', '46', '178', '168', '34', '21', '146', '136', '164', '183', '19', '130', '113', '175', '107', '173', '91', '89', '48', '35', '37', '137', '156', '157', '98', '41', '88', '108', '14', '82', '110', '162', '10', '141', '23', '102', '120', '119', '96', '24', '145', '70', '62', '153', '51', '170', '131', '83', '73', '72', '78', '185', '165', '86', '38', '1', '42', '79', '154', '22', '99', '158', '182', '15', '149', '133', '12', '9', '167', '93', '81', '140', '49', '135', '143', '174', '127', '103', '40', '138', '59', '150', '118', '84', '128', '53', '13', '126', '111', '166', '117', '124', '169', '29', '142', '104', '64', '112', '90', '50', '30', '122', '0', '100', '8', '58', '105', '20', '176', '63', '25', '76', '87', '61', '36', '68', '114', '54', '172', '85', '47', '18', '3', '159', '125', '17', '28', '7', '94', '148', '60', '2', '65', '144', '186', '161', '67', '26', '11', '56', '71', '52', '171', '44', '31', '27', '6', '33', '57', '180', '69', '129', '43', '121', '55', '163', '109', '177', '66', '39', '160', '179', '116', '74', '155', '80', '151', '187', '77', '4', '184', '16', '123', '92', '5', '132', '134', '101'}\n",
      "188\n"
     ]
    }
   ],
   "source": [
    "tags_set = set()\n",
    "print(len(questions_data))\n",
    "for i in range(len(questions_data)):\n",
    "    tags_set = tags_set.union(questions_data.tags[i].split())\n",
    "print(tags_set)\n",
    "print(len(tags_set))"
   ]
  },
  {
   "cell_type": "markdown",
   "metadata": {
    "papermill": {
     "duration": 0.012482,
     "end_time": "2020-12-14T05:24:33.458866",
     "exception": false,
     "start_time": "2020-12-14T05:24:33.446384",
     "status": "completed"
    },
    "tags": []
   },
   "source": [
    "There are 188 tags. Creating a 188-dimension vector to represent a question."
   ]
  },
  {
   "cell_type": "code",
   "execution_count": 6,
   "metadata": {
    "execution": {
     "iopub.execute_input": "2020-12-14T05:24:33.491946Z",
     "iopub.status.busy": "2020-12-14T05:24:33.491256Z",
     "iopub.status.idle": "2020-12-14T05:24:47.108655Z",
     "shell.execute_reply": "2020-12-14T05:24:47.108134Z"
    },
    "papermill": {
     "duration": 13.637192,
     "end_time": "2020-12-14T05:24:47.108770",
     "exception": false,
     "start_time": "2020-12-14T05:24:33.471578",
     "status": "completed"
    },
    "tags": []
   },
   "outputs": [
    {
     "data": {
      "text/html": [
       "<div>\n",
       "<style scoped>\n",
       "    .dataframe tbody tr th:only-of-type {\n",
       "        vertical-align: middle;\n",
       "    }\n",
       "\n",
       "    .dataframe tbody tr th {\n",
       "        vertical-align: top;\n",
       "    }\n",
       "\n",
       "    .dataframe thead th {\n",
       "        text-align: right;\n",
       "    }\n",
       "</style>\n",
       "<table border=\"1\" class=\"dataframe\">\n",
       "  <thead>\n",
       "    <tr style=\"text-align: right;\">\n",
       "      <th></th>\n",
       "      <th>question_id</th>\n",
       "      <th>tags</th>\n",
       "      <th>vec</th>\n",
       "    </tr>\n",
       "  </thead>\n",
       "  <tbody>\n",
       "    <tr>\n",
       "      <th>0</th>\n",
       "      <td>0</td>\n",
       "      <td>51 131 162 38</td>\n",
       "      <td>[0.0, 0.0, 0.0, 0.0, 0.0, 0.0, 0.0, 0.0, 0.0, ...</td>\n",
       "    </tr>\n",
       "    <tr>\n",
       "      <th>1</th>\n",
       "      <td>1</td>\n",
       "      <td>131 36 81</td>\n",
       "      <td>[0.0, 0.0, 0.0, 0.0, 0.0, 0.0, 0.0, 0.0, 0.0, ...</td>\n",
       "    </tr>\n",
       "    <tr>\n",
       "      <th>2</th>\n",
       "      <td>2</td>\n",
       "      <td>131 101 162 92</td>\n",
       "      <td>[0.0, 0.0, 0.0, 0.0, 0.0, 0.0, 0.0, 0.0, 0.0, ...</td>\n",
       "    </tr>\n",
       "    <tr>\n",
       "      <th>3</th>\n",
       "      <td>3</td>\n",
       "      <td>131 149 162 29</td>\n",
       "      <td>[0.0, 0.0, 0.0, 0.0, 0.0, 0.0, 0.0, 0.0, 0.0, ...</td>\n",
       "    </tr>\n",
       "    <tr>\n",
       "      <th>4</th>\n",
       "      <td>4</td>\n",
       "      <td>131 5 162 38</td>\n",
       "      <td>[0.0, 0.0, 0.0, 0.0, 0.0, 1.0, 0.0, 0.0, 0.0, ...</td>\n",
       "    </tr>\n",
       "  </tbody>\n",
       "</table>\n",
       "</div>"
      ],
      "text/plain": [
       "   question_id            tags  \\\n",
       "0            0   51 131 162 38   \n",
       "1            1       131 36 81   \n",
       "2            2  131 101 162 92   \n",
       "3            3  131 149 162 29   \n",
       "4            4    131 5 162 38   \n",
       "\n",
       "                                                 vec  \n",
       "0  [0.0, 0.0, 0.0, 0.0, 0.0, 0.0, 0.0, 0.0, 0.0, ...  \n",
       "1  [0.0, 0.0, 0.0, 0.0, 0.0, 0.0, 0.0, 0.0, 0.0, ...  \n",
       "2  [0.0, 0.0, 0.0, 0.0, 0.0, 0.0, 0.0, 0.0, 0.0, ...  \n",
       "3  [0.0, 0.0, 0.0, 0.0, 0.0, 0.0, 0.0, 0.0, 0.0, ...  \n",
       "4  [0.0, 0.0, 0.0, 0.0, 0.0, 1.0, 0.0, 0.0, 0.0, ...  "
      ]
     },
     "execution_count": 6,
     "metadata": {},
     "output_type": "execute_result"
    }
   ],
   "source": [
    "def gen_vec(row):\n",
    "    row['vec'] = np.zeros(188)\n",
    "    index_list = row.tags.split()\n",
    "    for index_ in index_list:\n",
    "        row.vec[int(index_)] = 1.0\n",
    "    return row\n",
    "\n",
    "questions_data = questions_data.apply(gen_vec, axis='columns')\n",
    "questions_data.head()"
   ]
  },
  {
   "cell_type": "markdown",
   "metadata": {
    "papermill": {
     "duration": 0.012997,
     "end_time": "2020-12-14T05:24:47.135228",
     "exception": false,
     "start_time": "2020-12-14T05:24:47.122231",
     "status": "completed"
    },
    "tags": []
   },
   "source": [
    "We can get one user's performance on different tags. And all-user's performance on different tags.\n",
    "So I create four objects below:\n",
    "1. user_ele_dict is a dictionary. Its items are users with their sums of correctly answered counts on tags.\n",
    "2. user_num_dict is a dictionary. Its items are users with their sums of answered counts on tags.\n",
    "3. ques_ele_vec is a vector. It is sums of all-user's correctly answered counts on tags.\n",
    "4. ques_num_vec is a vector. It is sums of all-user's answered counts on tags."
   ]
  },
  {
   "cell_type": "code",
   "execution_count": 7,
   "metadata": {
    "execution": {
     "iopub.execute_input": "2020-12-14T05:24:47.173962Z",
     "iopub.status.busy": "2020-12-14T05:24:47.173300Z",
     "iopub.status.idle": "2020-12-14T05:25:13.315243Z",
     "shell.execute_reply": "2020-12-14T05:25:13.314275Z"
    },
    "papermill": {
     "duration": 26.166498,
     "end_time": "2020-12-14T05:25:13.315403",
     "exception": false,
     "start_time": "2020-12-14T05:24:47.148905",
     "status": "completed"
    },
    "tags": []
   },
   "outputs": [
    {
     "name": "stderr",
     "output_type": "stream",
     "text": [
      "98182it [00:26, 3758.98it/s]\n"
     ]
    }
   ],
   "source": [
    "def cal_vec(train_row,ele_dict,num_dict,q_data=questions_data):\n",
    "    num_dict[train_row.user_id] += q_data.vec[train_row.content_id]\n",
    "    ele_dict[train_row.user_id] += q_data.vec[train_row.content_id] * train_row.answered_correctly\n",
    "    \n",
    "user_ele_dict = dict()\n",
    "user_num_dict = dict()\n",
    "ques_ele_vec = np.zeros(188)\n",
    "ques_num_vec = np.zeros(188)\n",
    "\n",
    "for index, row in tqdm(train_data.iterrows()):\n",
    "    ques_ele_vec += questions_data.vec[row.content_id] * row.answered_correctly\n",
    "    ques_num_vec += questions_data.vec[row.content_id]\n",
    "    if row.user_id in user_ele_dict.keys():\n",
    "        cal_vec(row,user_ele_dict,user_num_dict)\n",
    "    else:\n",
    "        user_ele_dict[row.user_id] = np.zeros(188)\n",
    "        user_num_dict[row.user_id] = np.zeros(188)\n",
    "        cal_vec(row,user_ele_dict,user_num_dict)"
   ]
  },
  {
   "cell_type": "markdown",
   "metadata": {
    "papermill": {
     "duration": 0.098783,
     "end_time": "2020-12-14T05:25:13.514252",
     "exception": false,
     "start_time": "2020-12-14T05:25:13.415469",
     "status": "completed"
    },
    "tags": []
   },
   "source": [
    "The process over the whole train.csv will take hours. So I upload my result in \"pretrained-for-riiid\" folder in case you want to use."
   ]
  },
  {
   "cell_type": "code",
   "execution_count": 8,
   "metadata": {
    "execution": {
     "iopub.execute_input": "2020-12-14T05:25:13.723328Z",
     "iopub.status.busy": "2020-12-14T05:25:13.722400Z",
     "iopub.status.idle": "2020-12-14T05:25:29.147353Z",
     "shell.execute_reply": "2020-12-14T05:25:29.146206Z"
    },
    "papermill": {
     "duration": 15.532881,
     "end_time": "2020-12-14T05:25:29.147500",
     "exception": false,
     "start_time": "2020-12-14T05:25:13.614619",
     "status": "completed"
    },
    "tags": []
   },
   "outputs": [],
   "source": [
    "import pickle\n",
    "with open('../input/pretrained-for-riiid/user_ele_dict.pkl', 'rb') as f:\n",
    "    user_ele_dict = pickle.load(f)\n",
    "\n",
    "with open('../input/pretrained-for-riiid/user_num_dict.pkl', 'rb') as f:\n",
    "    user_num_dict = pickle.load(f)\n",
    "\n",
    "with open('../input/pretrained-for-riiid/ques_ele_vec.pkl', 'rb') as f:\n",
    "    ques_ele_vec = pickle.load(f)\n",
    "\n",
    "with open('../input/pretrained-for-riiid/ques_num_vec.pkl', 'rb') as f:\n",
    "    ques_num_vec = pickle.load(f)  "
   ]
  },
  {
   "cell_type": "markdown",
   "metadata": {
    "papermill": {
     "duration": 0.096997,
     "end_time": "2020-12-14T05:25:29.342087",
     "exception": false,
     "start_time": "2020-12-14T05:25:29.245090",
     "status": "completed"
    },
    "tags": []
   },
   "source": [
    "Check them out."
   ]
  },
  {
   "cell_type": "code",
   "execution_count": 9,
   "metadata": {
    "execution": {
     "iopub.execute_input": "2020-12-14T05:25:29.539851Z",
     "iopub.status.busy": "2020-12-14T05:25:29.539247Z",
     "iopub.status.idle": "2020-12-14T05:25:29.557623Z",
     "shell.execute_reply": "2020-12-14T05:25:29.558484Z"
    },
    "papermill": {
     "duration": 0.119551,
     "end_time": "2020-12-14T05:25:29.558683",
     "exception": false,
     "start_time": "2020-12-14T05:25:29.439132",
     "status": "completed"
    },
    "tags": []
   },
   "outputs": [
    {
     "name": "stdout",
     "output_type": "stream",
     "text": [
      "[ 0.  0.  0.  0.  0.  1.  0.  0.  0.  2.  6.  0.  0.  0.  0.  0.  0.  0.\n",
      "  0.  0.  0.  0.  0.  0.  0.  0.  0.  0.  0.  8.  0.  0.  0.  0.  0.  0.\n",
      "  1.  0.  3.  0.  0.  0.  0.  0.  0.  0.  0.  0.  0.  0.  0.  2.  0.  0.\n",
      "  0.  0.  0.  0.  0.  0.  0.  0.  0.  0.  0.  0.  0.  0.  1.  0.  0.  0.\n",
      "  0.  0.  0.  0.  0.  0.  0.  0.  0.  9.  0.  0.  0.  0.  0.  0.  0.  0.\n",
      "  0.  0. 12.  4.  2.  0.  0.  0.  0.  1.  0.  2.  1.  1.  2.  0.  0.  0.\n",
      "  0.  0.  0.  0.  0.  0.  0.  0.  0.  0.  0.  0.  0.  0.  0.  0.  0.  0.\n",
      "  0.  0.  0.  0.  2. 20.  0.  0.  0.  0.  2.  0.  0.  0.  1.  0.  0.  1.\n",
      "  0.  0.  0.  0.  0.  2.  0.  1.  0.  0.  0.  0.  0.  1.  0.  0.  0.  0.\n",
      "  8.  0.  1.  0.  0.  0.  1.  0.  0.  0.  0.  0.  0.  0.  0.  0.  1.  0.\n",
      "  0.  0.  0.  0.  0.  0.  0.  2.]\n",
      "[ 0.  0.  0.  0.  0.  4.  0.  0.  0.  3.  8.  0.  0.  0.  0.  0.  0.  0.\n",
      "  0.  0.  0.  0.  0.  0.  0.  0.  0.  0.  0. 12.  0.  0.  0.  0.  0.  0.\n",
      "  1.  0.  4.  0.  0.  0.  0.  0.  0.  0.  0.  0.  0.  0.  0.  2.  0.  0.\n",
      "  0.  0.  0.  0.  0.  0.  0.  2.  0.  0.  0.  0.  0.  0.  1.  0.  0.  0.\n",
      "  0.  0.  1.  0.  0.  0.  0.  0.  0. 14.  0.  0.  0.  0.  0.  0.  0.  0.\n",
      "  0.  0. 17.  5.  2.  0.  0.  0.  0.  1.  0.  2.  1.  3.  4.  0.  0.  0.\n",
      "  0.  0.  2.  1.  0.  0.  0.  0.  0.  0.  0.  0.  0.  0.  0.  0.  0.  0.\n",
      "  0.  0.  0.  0.  2. 27.  0.  0.  0.  0.  4.  0.  0.  0.  1.  0.  0.  1.\n",
      "  0.  0.  0.  0.  0.  2.  0.  1.  0.  0.  0.  0.  0.  1.  0.  0.  0.  0.\n",
      " 14.  0.  2.  0.  0.  0.  1.  0.  0.  0.  0.  0.  0.  0.  0.  0.  1.  0.\n",
      "  0.  0.  0.  0.  0.  0.  0.  2.]\n",
      "[2.0465600e+05 1.4656250e+06 1.2060720e+06 1.8710700e+05 3.2036300e+05\n",
      " 3.7931800e+05 2.5355400e+05 4.5424600e+05 1.2849290e+06 6.3027800e+05\n",
      " 1.6924370e+06 5.4822000e+04 8.1220100e+05 1.5543100e+05 5.6637200e+05\n",
      " 1.9055900e+05 6.2294400e+05 6.0743400e+05 3.5073700e+05 1.3636700e+05\n",
      " 5.7463800e+05 1.1645880e+06 1.2943400e+05 2.0429300e+05 9.8982000e+04\n",
      " 2.5502500e+05 2.6532700e+05 1.7610850e+06 2.8735000e+05 8.6992180e+06\n",
      " 8.0731200e+05 1.7970400e+05 9.5908800e+05 2.7786000e+05 1.6308000e+05\n",
      " 8.5098400e+05 2.1028700e+05 2.8885500e+05 1.2014725e+07 2.4846700e+05\n",
      " 1.8433800e+05 8.8784500e+05 7.1515000e+05 2.2230800e+05 2.6260500e+05\n",
      " 3.4693300e+05 6.1711000e+04 2.6994200e+05 3.8405100e+05 2.4179100e+05\n",
      " 4.0752500e+05 2.5765100e+05 3.6545000e+05 1.9137090e+06 2.4430200e+05\n",
      " 8.5890200e+05 6.2312000e+05 1.3633100e+05 1.8745000e+05 2.3070000e+04\n",
      " 4.8430100e+05 2.9964900e+05 2.4211280e+06 6.3742000e+04 3.6373400e+05\n",
      " 3.0077600e+05 3.2454900e+05 9.6779400e+05 1.0400000e+05 9.8991300e+05\n",
      " 2.3572600e+05 4.8360400e+05 4.0550600e+05 1.9303370e+06 2.0444750e+06\n",
      " 2.5286700e+05 2.6207300e+05 1.0158700e+05 1.3635100e+05 7.7359400e+05\n",
      " 4.2233700e+05 9.8313690e+06 2.0125020e+06 1.3427800e+05 7.0911000e+05\n",
      " 2.6728100e+05 2.0010000e+03 1.3870600e+05 9.7527100e+05 6.3009300e+05\n",
      " 1.3570710e+06 5.5731800e+05 1.2932847e+07 4.5615700e+05 2.9964500e+05\n",
      " 2.4131600e+05 1.2971770e+06 1.1401520e+06 7.4109600e+05 2.2062900e+05\n",
      " 1.2449510e+06 2.8982800e+05 6.2833530e+06 8.8803200e+05 3.6902900e+05\n",
      " 3.9274000e+05 1.6349020e+06 9.1318000e+05 2.3829600e+05 6.2862600e+05\n",
      " 2.9964900e+05 1.8082700e+05 1.0003900e+05 5.9384300e+05 7.0302900e+05\n",
      " 2.5952800e+05 4.7747300e+05 1.5297500e+05 7.3660200e+05 8.3183300e+05\n",
      " 1.5042600e+05 5.6222000e+04 1.3838210e+06 3.2771800e+05 1.5423900e+05\n",
      " 3.7107700e+05 2.5985900e+05 2.7637400e+05 3.3855700e+05 6.6560700e+05\n",
      " 2.0792000e+05 3.5618100e+06 2.1943500e+05 4.5938900e+05 3.7558000e+05\n",
      " 7.1799100e+05 3.2768010e+06 1.5307900e+06 9.2767600e+05 8.7353000e+04\n",
      " 8.4069000e+05 4.8920300e+05 7.4980200e+05 5.1652860e+06 5.5989300e+05\n",
      " 2.8748600e+05 2.6890400e+05 6.1212600e+05 8.5282400e+05 3.3663900e+05\n",
      " 2.2660200e+05 2.6491300e+05 3.6010600e+05 8.5245000e+04 8.9911000e+04\n",
      " 1.6356600e+06 3.2958700e+05 1.0596850e+06 1.7596400e+05 3.9053900e+05\n",
      " 6.6821400e+05 5.2899000e+05 7.0566610e+06 9.4288400e+05 2.8466500e+05\n",
      " 1.9271000e+04 3.4231900e+05 1.7068100e+05 3.6088800e+05 2.9751300e+05\n",
      " 2.7926200e+05 2.7760700e+05 1.7263400e+05 7.2138100e+05 3.3463900e+05\n",
      " 2.5799600e+05 8.6362300e+05 2.6403100e+05 2.3610300e+05 4.6037500e+05\n",
      " 2.9504300e+05 3.9561700e+05 1.5055200e+05 1.3033800e+05 2.0148200e+05\n",
      " 1.3931100e+05 5.0550000e+03 2.1577600e+05]\n",
      "[3.2667900e+05 2.4095090e+06 1.7272020e+06 2.9027800e+05 4.9925500e+05\n",
      " 5.0436200e+05 4.4234500e+05 7.2931200e+05 2.0456990e+06 9.4983400e+05\n",
      " 2.5562590e+06 1.0492200e+05 1.2019740e+06 2.0893900e+05 8.1010900e+05\n",
      " 3.3017200e+05 9.0002700e+05 8.7641400e+05 5.1653600e+05 3.0996900e+05\n",
      " 7.9922100e+05 1.8907630e+06 1.8626200e+05 4.6590400e+05 2.5661300e+05\n",
      " 3.7375300e+05 5.2020300e+05 2.6115480e+06 5.1234000e+05 1.2400546e+07\n",
      " 1.1406050e+06 3.1440200e+05 1.4348980e+06 4.2076600e+05 2.9542200e+05\n",
      " 1.2631960e+06 2.6939900e+05 4.0754100e+05 1.6796328e+07 4.0724600e+05\n",
      " 2.2651400e+05 1.2589830e+06 1.0918470e+06 3.6288000e+05 4.7302000e+05\n",
      " 4.9054700e+05 1.1834200e+05 4.9211200e+05 6.1971600e+05 4.1677600e+05\n",
      " 8.0478900e+05 3.2357300e+05 6.2968800e+05 2.9769450e+06 3.8208600e+05\n",
      " 1.3785340e+06 8.9707700e+05 2.5225200e+05 3.7145500e+05 3.3645000e+04\n",
      " 7.5585300e+05 4.2133800e+05 3.3397680e+06 8.3698000e+04 5.9838700e+05\n",
      " 4.9177300e+05 4.7988900e+05 1.7809960e+06 1.2037800e+05 1.3273680e+06\n",
      " 2.9390200e+05 6.9220100e+05 6.4246100e+05 3.2611990e+06 2.9669070e+06\n",
      " 4.0114700e+05 3.6479700e+05 1.2758500e+05 2.0546500e+05 1.2244500e+06\n",
      " 7.4808000e+05 1.3943138e+07 2.8770730e+06 1.9840100e+05 1.0014320e+06\n",
      " 4.0931500e+05 3.3670000e+03 1.9252400e+05 1.3496940e+06 1.0016940e+06\n",
      " 1.9509260e+06 9.0395700e+05 1.8814336e+07 5.6331300e+05 5.3509100e+05\n",
      " 3.4719800e+05 2.0893570e+06 1.7267550e+06 1.0218860e+06 2.9785700e+05\n",
      " 1.7659790e+06 3.6746900e+05 8.9917510e+06 1.6239580e+06 4.7820000e+05\n",
      " 5.1857600e+05 2.2567110e+06 1.3164920e+06 4.7280000e+05 8.8962500e+05\n",
      " 4.2133800e+05 2.3140700e+05 1.3994400e+05 8.9763700e+05 1.0178810e+06\n",
      " 3.2856300e+05 6.9337700e+05 2.4161200e+05 1.0357930e+06 1.1495380e+06\n",
      " 2.1108900e+05 7.7227000e+04 2.0312430e+06 6.0690500e+05 2.5469300e+05\n",
      " 5.8473800e+05 3.8560500e+05 4.1149300e+05 5.3660700e+05 8.9079700e+05\n",
      " 2.4370800e+05 4.4769730e+06 4.0388000e+05 7.4766600e+05 6.3343200e+05\n",
      " 1.0308340e+06 5.1531590e+06 2.0628610e+06 1.3192890e+06 1.1529100e+05\n",
      " 1.1722670e+06 6.7601400e+05 9.8179000e+05 7.2446460e+06 7.7660100e+05\n",
      " 4.3940300e+05 3.9884700e+05 8.4814700e+05 1.2621860e+06 3.9697300e+05\n",
      " 3.2863900e+05 5.3718000e+05 6.2737400e+05 1.1940000e+05 1.2341400e+05\n",
      " 2.2993230e+06 4.9258800e+05 1.5892530e+06 2.3984500e+05 6.1853800e+05\n",
      " 9.8176100e+05 9.6684300e+05 9.6819520e+06 1.3570250e+06 4.4604000e+05\n",
      " 3.2941000e+04 5.3471600e+05 3.4106700e+05 5.1070300e+05 4.1874300e+05\n",
      " 4.8536200e+05 3.8763300e+05 2.6519000e+05 1.0770430e+06 5.8156100e+05\n",
      " 4.4408300e+05 1.2146060e+06 3.2956400e+05 3.2420400e+05 7.1842900e+05\n",
      " 4.4644200e+05 6.2738800e+05 2.1591600e+05 1.9026900e+05 2.8805800e+05\n",
      " 1.9249800e+05 9.0020000e+03 2.5206900e+05]\n"
     ]
    }
   ],
   "source": [
    "print(user_ele_dict[115])#user_id=115\n",
    "print(user_num_dict[115])\n",
    "print(ques_ele_vec)\n",
    "print(ques_num_vec)"
   ]
  }
 ],
 "metadata": {
  "kernelspec": {
   "display_name": "Python 3",
   "language": "python",
   "name": "python3"
  },
  "language_info": {
   "codemirror_mode": {
    "name": "ipython",
    "version": 3
   },
   "file_extension": ".py",
   "mimetype": "text/x-python",
   "name": "python",
   "nbconvert_exporter": "python",
   "pygments_lexer": "ipython3",
   "version": "3.7.6"
  },
  "papermill": {
   "duration": 61.85716,
   "end_time": "2020-12-14T05:25:29.766062",
   "environment_variables": {},
   "exception": null,
   "input_path": "__notebook__.ipynb",
   "output_path": "__notebook__.ipynb",
   "parameters": {},
   "start_time": "2020-12-14T05:24:27.908902",
   "version": "2.1.0"
  }
 },
 "nbformat": 4,
 "nbformat_minor": 4
}
