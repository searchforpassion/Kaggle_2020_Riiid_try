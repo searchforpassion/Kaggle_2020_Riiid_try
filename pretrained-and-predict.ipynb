{
 "cells": [
  {
   "cell_type": "code",
   "execution_count": 1,
   "metadata": {
    "_cell_guid": "79c7e3d0-c299-4dcb-8224-4455121ee9b0",
    "_uuid": "d629ff2d2480ee46fbb7e2d37f6b5fab8052498a",
    "execution": {
     "iopub.execute_input": "2020-11-21T08:26:26.676304Z",
     "iopub.status.busy": "2020-11-21T08:26:26.674472Z",
     "iopub.status.idle": "2020-11-21T08:26:33.141277Z",
     "shell.execute_reply": "2020-11-21T08:26:33.140462Z"
    },
    "papermill": {
     "duration": 6.482941,
     "end_time": "2020-11-21T08:26:33.141433",
     "exception": false,
     "start_time": "2020-11-21T08:26:26.658492",
     "status": "completed"
    },
    "tags": []
   },
   "outputs": [],
   "source": [
    "import numpy as np\n",
    "import pandas as pd\n",
    "#from tqdm import tqdm\n",
    "import pickle\n",
    "\n",
    "with open('../input/pretrained-for-riiid/user_ele_dict.pkl', 'rb') as f:\n",
    "    user_ele_dict = pickle.load(f)\n",
    "\n",
    "with open('../input/pretrained-for-riiid/user_num_dict.pkl', 'rb') as f:\n",
    "    user_num_dict = pickle.load(f)\n",
    "\n",
    "with open('../input/pretrained-for-riiid/ques_ele_vec.pkl', 'rb') as f:\n",
    "    ques_ele_vec = pickle.load(f)\n",
    "\n",
    "with open('../input/pretrained-for-riiid/ques_num_vec.pkl', 'rb') as f:\n",
    "    ques_num_vec = pickle.load(f)  "
   ]
  },
  {
   "cell_type": "code",
   "execution_count": 2,
   "metadata": {
    "execution": {
     "iopub.execute_input": "2020-11-21T08:26:33.165499Z",
     "iopub.status.busy": "2020-11-21T08:26:33.164626Z",
     "iopub.status.idle": "2020-11-21T08:26:48.985905Z",
     "shell.execute_reply": "2020-11-21T08:26:48.984726Z"
    },
    "papermill": {
     "duration": 15.83926,
     "end_time": "2020-11-21T08:26:48.986057",
     "exception": false,
     "start_time": "2020-11-21T08:26:33.146797",
     "status": "completed"
    },
    "tags": []
   },
   "outputs": [],
   "source": [
    "question_dtype = {\n",
    "    'question_id':'int16',\n",
    "    'tags':'object'\n",
    "}\n",
    "questions_data = pd.read_csv('../input/riiid-test-answer-prediction/questions.csv',\n",
    "                             usecols = question_dtype.keys(), \n",
    "                             dtype = question_dtype)\n",
    "\n",
    "questions_data.tags.fillna('92',inplace=True)\n",
    "\n",
    "def gen_vec(row):\n",
    "    row['vec'] = np.zeros(188)\n",
    "    index_list = row.tags.split()\n",
    "    for index_ in index_list:\n",
    "        row.vec[int(index_)] = 1.0\n",
    "    return row\n",
    "\n",
    "questions_data = questions_data.apply(gen_vec, axis='columns')"
   ]
  },
  {
   "cell_type": "code",
   "execution_count": 3,
   "metadata": {
    "execution": {
     "iopub.execute_input": "2020-11-21T08:26:49.012201Z",
     "iopub.status.busy": "2020-11-21T08:26:49.010848Z",
     "iopub.status.idle": "2020-11-21T08:26:49.015201Z",
     "shell.execute_reply": "2020-11-21T08:26:49.014544Z"
    },
    "papermill": {
     "duration": 0.023983,
     "end_time": "2020-11-21T08:26:49.015328",
     "exception": false,
     "start_time": "2020-11-21T08:26:48.991345",
     "status": "completed"
    },
    "tags": []
   },
   "outputs": [],
   "source": [
    "def predict_y(row_data, user_ele, user_num, ques_ele=ques_ele_vec, ques_num=ques_num_vec, q_data=questions_data):\n",
    "    y = np.ones(len(row_data))*0.25\n",
    "    i = 0\n",
    "    for index, row in row_data.iterrows():\n",
    "        mask = q_data.vec[row.content_id]\n",
    "        ques_prob_vec = ques_ele/ques_num\n",
    "        if row.user_id in user_ele.keys():\n",
    "            borrow_index = (user_num[row.user_id] == 0)\n",
    "            user_prob_vec = user_ele[row.user_id]/user_num[row.user_id]\n",
    "            user_prob_vec[borrow_index] = ques_prob_vec[borrow_index]\n",
    "            y[i] = sum(user_prob_vec * mask)/sum(mask)\n",
    "        else:\n",
    "            y[i] = sum(ques_prob_vec * mask)/sum(mask)\n",
    "        i = i + 1\n",
    "    return y"
   ]
  },
  {
   "cell_type": "code",
   "execution_count": 4,
   "metadata": {
    "execution": {
     "iopub.execute_input": "2020-11-21T08:26:49.035358Z",
     "iopub.status.busy": "2020-11-21T08:26:49.034334Z",
     "iopub.status.idle": "2020-11-21T08:26:49.445664Z",
     "shell.execute_reply": "2020-11-21T08:26:49.444913Z"
    },
    "papermill": {
     "duration": 0.424413,
     "end_time": "2020-11-21T08:26:49.445793",
     "exception": false,
     "start_time": "2020-11-21T08:26:49.021380",
     "status": "completed"
    },
    "tags": []
   },
   "outputs": [
    {
     "name": "stderr",
     "output_type": "stream",
     "text": [
      "/opt/conda/lib/python3.7/site-packages/ipykernel_launcher.py:9: RuntimeWarning: invalid value encountered in true_divide\n",
      "  if __name__ == '__main__':\n",
      "/opt/conda/lib/python3.7/site-packages/ipykernel_launcher.py:9: RuntimeWarning: invalid value encountered in true_divide\n",
      "  if __name__ == '__main__':\n",
      "/opt/conda/lib/python3.7/site-packages/ipykernel_launcher.py:9: RuntimeWarning: invalid value encountered in true_divide\n",
      "  if __name__ == '__main__':\n",
      "/opt/conda/lib/python3.7/site-packages/ipykernel_launcher.py:9: RuntimeWarning: invalid value encountered in true_divide\n",
      "  if __name__ == '__main__':\n"
     ]
    }
   ],
   "source": [
    "import riiideducation\n",
    "env = riiideducation.make_env()\n",
    "iter_test = env.iter_test()\n",
    "for (test_df, sample_prediction_df) in iter_test:\n",
    "    test_df = test_df[test_df.content_type_id == 0]\n",
    "    test_df['answered_correctly'] = predict_y(test_df,user_ele_dict, user_num_dict)\n",
    "    #print('-----------------------------------------')\n",
    "    #print(test_df[['row_id', 'answered_correctly']])\n",
    "    #print('-----------------------------------------')\n",
    "    env.predict(test_df[['row_id', 'answered_correctly']])"
   ]
  }
 ],
 "metadata": {
  "kernelspec": {
   "display_name": "Python 3",
   "language": "python",
   "name": "python3"
  },
  "language_info": {
   "codemirror_mode": {
    "name": "ipython",
    "version": 3
   },
   "file_extension": ".py",
   "mimetype": "text/x-python",
   "name": "python",
   "nbconvert_exporter": "python",
   "pygments_lexer": "ipython3",
   "version": "3.7.6"
  },
  "papermill": {
   "duration": 27.96173,
   "end_time": "2020-11-21T08:26:49.560577",
   "environment_variables": {},
   "exception": null,
   "input_path": "__notebook__.ipynb",
   "output_path": "__notebook__.ipynb",
   "parameters": {},
   "start_time": "2020-11-21T08:26:21.598847",
   "version": "2.1.0"
  }
 },
 "nbformat": 4,
 "nbformat_minor": 4
}
