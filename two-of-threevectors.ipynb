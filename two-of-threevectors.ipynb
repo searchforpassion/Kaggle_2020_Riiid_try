{
 "cells": [
  {
   "cell_type": "code",
   "execution_count": 1,
   "metadata": {
    "_cell_guid": "b1076dfc-b9ad-4769-8c92-a6c4dae69d19",
    "_uuid": "8f2839f25d086af736a60e9eeb907d3b93b6e0e5",
    "execution": {
     "iopub.execute_input": "2020-11-20T05:35:47.017769Z",
     "iopub.status.busy": "2020-11-20T05:35:47.016787Z",
     "iopub.status.idle": "2020-11-20T05:35:47.020090Z",
     "shell.execute_reply": "2020-11-20T05:35:47.019286Z"
    },
    "papermill": {
     "duration": 0.025761,
     "end_time": "2020-11-20T05:35:47.020226",
     "exception": false,
     "start_time": "2020-11-20T05:35:46.994465",
     "status": "completed"
    },
    "tags": []
   },
   "outputs": [],
   "source": [
    "import numpy as np\n",
    "import pandas as pd\n",
    "from tqdm import tqdm"
   ]
  },
  {
   "cell_type": "code",
   "execution_count": 2,
   "metadata": {
    "_cell_guid": "79c7e3d0-c299-4dcb-8224-4455121ee9b0",
    "_uuid": "d629ff2d2480ee46fbb7e2d37f6b5fab8052498a",
    "execution": {
     "iopub.execute_input": "2020-11-20T05:35:47.055554Z",
     "iopub.status.busy": "2020-11-20T05:35:47.054704Z",
     "iopub.status.idle": "2020-11-20T05:35:47.073666Z",
     "shell.execute_reply": "2020-11-20T05:35:47.072938Z"
    },
    "papermill": {
     "duration": 0.039935,
     "end_time": "2020-11-20T05:35:47.073810",
     "exception": false,
     "start_time": "2020-11-20T05:35:47.033875",
     "status": "completed"
    },
    "tags": []
   },
   "outputs": [],
   "source": [
    "question_dtype = {\n",
    "    'question_id':'int16',\n",
    "    'tags':'object'\n",
    "}\n",
    "questions_data = pd.read_csv('../input/riiid-test-answer-prediction/questions.csv',\n",
    "                             usecols = question_dtype.keys(), \n",
    "                             dtype = question_dtype)"
   ]
  },
  {
   "cell_type": "code",
   "execution_count": 3,
   "metadata": {
    "execution": {
     "iopub.execute_input": "2020-11-20T05:35:47.113716Z",
     "iopub.status.busy": "2020-11-20T05:35:47.112784Z",
     "iopub.status.idle": "2020-11-20T05:35:47.116217Z",
     "shell.execute_reply": "2020-11-20T05:35:47.115531Z"
    },
    "papermill": {
     "duration": 0.029368,
     "end_time": "2020-11-20T05:35:47.116349",
     "exception": false,
     "start_time": "2020-11-20T05:35:47.086981",
     "status": "completed"
    },
    "tags": []
   },
   "outputs": [],
   "source": [
    "#print(questions_data.loc[questions_data.tags.isnull()])\n",
    "questions_data.tags.fillna('92',inplace=True)"
   ]
  },
  {
   "cell_type": "code",
   "execution_count": 4,
   "metadata": {
    "collapsed": true,
    "execution": {
     "iopub.execute_input": "2020-11-20T05:35:47.148046Z",
     "iopub.status.busy": "2020-11-20T05:35:47.147227Z",
     "iopub.status.idle": "2020-11-20T05:35:47.150378Z",
     "shell.execute_reply": "2020-11-20T05:35:47.149675Z"
    },
    "papermill": {
     "duration": 0.020795,
     "end_time": "2020-11-20T05:35:47.150529",
     "exception": false,
     "start_time": "2020-11-20T05:35:47.129734",
     "status": "completed"
    },
    "tags": []
   },
   "outputs": [],
   "source": [
    "#tags_set = set()\n",
    "#print(len(questions_data))\n",
    "#for i in range(len(questions_data)):\n",
    "#    tags_set = tags_set.union(questions_data.tags[i].split())\n",
    "#print(tags_set)\n",
    "#print(len(tags_set))"
   ]
  },
  {
   "cell_type": "code",
   "execution_count": 5,
   "metadata": {
    "collapsed": true,
    "execution": {
     "iopub.execute_input": "2020-11-20T05:35:47.185643Z",
     "iopub.status.busy": "2020-11-20T05:35:47.184532Z",
     "iopub.status.idle": "2020-11-20T05:36:02.771083Z",
     "shell.execute_reply": "2020-11-20T05:36:02.770313Z"
    },
    "papermill": {
     "duration": 15.607189,
     "end_time": "2020-11-20T05:36:02.771217",
     "exception": false,
     "start_time": "2020-11-20T05:35:47.164028",
     "status": "completed"
    },
    "tags": []
   },
   "outputs": [],
   "source": [
    "def gen_vec(row):\n",
    "    row['vec'] = np.zeros(188)\n",
    "    index_list = row.tags.split()\n",
    "    for index_ in index_list:\n",
    "        row.vec[int(index_)] = 1.0\n",
    "    return row\n",
    "\n",
    "questions_data = questions_data.apply(gen_vec, axis='columns')\n",
    "#questions_data.head()"
   ]
  },
  {
   "cell_type": "code",
   "execution_count": 6,
   "metadata": {
    "execution": {
     "iopub.execute_input": "2020-11-20T05:36:02.807957Z",
     "iopub.status.busy": "2020-11-20T05:36:02.806962Z",
     "iopub.status.idle": "2020-11-20T05:36:12.003566Z",
     "shell.execute_reply": "2020-11-20T05:36:12.002482Z"
    },
    "papermill": {
     "duration": 9.218688,
     "end_time": "2020-11-20T05:36:12.003704",
     "exception": false,
     "start_time": "2020-11-20T05:36:02.785016",
     "status": "completed"
    },
    "tags": []
   },
   "outputs": [],
   "source": [
    "train_dtypes_dict = {\n",
    "    \"row_id\": \"int64\",\n",
    "    #\"timestamp\": \"int64\",\n",
    "    \"user_id\": \"int32\",\n",
    "    \"content_id\": \"int16\",\n",
    "    \"content_type_id\": \"int8\",\n",
    "    #\"task_container_id\": \"int16\",\n",
    "    #\"user_answer\": \"int8\",\n",
    "    \"answered_correctly\": \"int8\",\n",
    "    #\"prior_question_elapsed_time\": \"float32\", \n",
    "    #\"prior_question_had_explanation\": \"boolean\"\n",
    "}\n",
    "\n",
    "train_data = pd.read_csv(\"../input/riiid-test-answer-prediction/train.csv\",\n",
    "                         nrows=10**7,\n",
    "                         usecols = train_dtypes_dict.keys(),\n",
    "                         dtype=train_dtypes_dict,\n",
    "                         #index_col = 0,\n",
    "                        )"
   ]
  },
  {
   "cell_type": "code",
   "execution_count": 7,
   "metadata": {
    "collapsed": true,
    "execution": {
     "iopub.execute_input": "2020-11-20T05:36:12.037742Z",
     "iopub.status.busy": "2020-11-20T05:36:12.036891Z",
     "iopub.status.idle": "2020-11-20T05:36:12.488635Z",
     "shell.execute_reply": "2020-11-20T05:36:12.487920Z"
    },
    "papermill": {
     "duration": 0.471443,
     "end_time": "2020-11-20T05:36:12.488761",
     "exception": false,
     "start_time": "2020-11-20T05:36:12.017318",
     "status": "completed"
    },
    "tags": []
   },
   "outputs": [],
   "source": [
    "train_data_q = train_data[train_data.content_type_id == 0]\n",
    "#print(len(train_data_q))\n",
    "#print(len(train_data_q.user_id.unique()))\n",
    "#print(train_data_q.head())"
   ]
  },
  {
   "cell_type": "code",
   "execution_count": 8,
   "metadata": {
    "collapsed": true,
    "execution": {
     "iopub.execute_input": "2020-11-20T05:36:12.522165Z",
     "iopub.status.busy": "2020-11-20T05:36:12.521273Z",
     "iopub.status.idle": "2020-11-20T05:36:12.524717Z",
     "shell.execute_reply": "2020-11-20T05:36:12.523960Z"
    },
    "papermill": {
     "duration": 0.021454,
     "end_time": "2020-11-20T05:36:12.524839",
     "exception": false,
     "start_time": "2020-11-20T05:36:12.503385",
     "status": "completed"
    },
    "tags": []
   },
   "outputs": [],
   "source": [
    "#del train_data\n",
    "#train_data_q_sample = train_data_q#.sample(n=10**6, random_state=1)\n",
    "#train_data_q_sample.head()"
   ]
  },
  {
   "cell_type": "code",
   "execution_count": 9,
   "metadata": {
    "execution": {
     "iopub.execute_input": "2020-11-20T05:36:12.560131Z",
     "iopub.status.busy": "2020-11-20T05:36:12.559084Z",
     "iopub.status.idle": "2020-11-20T05:36:12.562700Z",
     "shell.execute_reply": "2020-11-20T05:36:12.561957Z"
    },
    "papermill": {
     "duration": 0.023961,
     "end_time": "2020-11-20T05:36:12.562824",
     "exception": false,
     "start_time": "2020-11-20T05:36:12.538863",
     "status": "completed"
    },
    "tags": []
   },
   "outputs": [],
   "source": [
    "def cal_vec(train_row,ele_dict,num_dict,q_data=questions_data):\n",
    "    num_dict[train_row.user_id] += q_data.vec[train_row.content_id]\n",
    "    ele_dict[train_row.user_id] += q_data.vec[train_row.content_id] * train_row.answered_correctly"
   ]
  },
  {
   "cell_type": "code",
   "execution_count": 10,
   "metadata": {
    "execution": {
     "iopub.execute_input": "2020-11-20T05:36:12.601371Z",
     "iopub.status.busy": "2020-11-20T05:36:12.599934Z",
     "iopub.status.idle": "2020-11-20T06:24:26.193365Z",
     "shell.execute_reply": "2020-11-20T06:24:26.192659Z"
    },
    "papermill": {
     "duration": 2893.616499,
     "end_time": "2020-11-20T06:24:26.193541",
     "exception": false,
     "start_time": "2020-11-20T05:36:12.577042",
     "status": "completed"
    },
    "tags": []
   },
   "outputs": [],
   "source": [
    "user_ele_dict = dict()\n",
    "user_num_dict = dict()\n",
    "ques_ele_vec = np.zeros(188)\n",
    "ques_num_vec = np.zeros(188)\n",
    "for index, row in train_data_q.iterrows():\n",
    "    ques_ele_vec += questions_data.vec[row.content_id] * row.answered_correctly\n",
    "    ques_num_vec += questions_data.vec[row.content_id]\n",
    "    if row.user_id in user_ele_dict.keys():\n",
    "        cal_vec(row,user_ele_dict,user_num_dict)\n",
    "    else:\n",
    "        user_ele_dict[row.user_id] = np.zeros(188)\n",
    "        user_num_dict[row.user_id] = np.zeros(188)\n",
    "        cal_vec(row,user_ele_dict,user_num_dict)"
   ]
  },
  {
   "cell_type": "code",
   "execution_count": 11,
   "metadata": {
    "collapsed": true,
    "execution": {
     "iopub.execute_input": "2020-11-20T06:24:26.228101Z",
     "iopub.status.busy": "2020-11-20T06:24:26.227036Z",
     "iopub.status.idle": "2020-11-20T06:24:26.230512Z",
     "shell.execute_reply": "2020-11-20T06:24:26.229888Z"
    },
    "papermill": {
     "duration": 0.022279,
     "end_time": "2020-11-20T06:24:26.230632",
     "exception": false,
     "start_time": "2020-11-20T06:24:26.208353",
     "status": "completed"
    },
    "tags": []
   },
   "outputs": [],
   "source": [
    "#print(len(user_ele_dict),len(user_num_dict))\n",
    "#print(ques_ele_vec/ques_num_vec)"
   ]
  },
  {
   "cell_type": "code",
   "execution_count": 12,
   "metadata": {
    "execution": {
     "iopub.execute_input": "2020-11-20T06:24:26.271990Z",
     "iopub.status.busy": "2020-11-20T06:24:26.270944Z",
     "iopub.status.idle": "2020-11-20T06:24:26.274743Z",
     "shell.execute_reply": "2020-11-20T06:24:26.274101Z"
    },
    "papermill": {
     "duration": 0.029513,
     "end_time": "2020-11-20T06:24:26.274864",
     "exception": false,
     "start_time": "2020-11-20T06:24:26.245351",
     "status": "completed"
    },
    "tags": []
   },
   "outputs": [],
   "source": [
    "def predict_y(row_data, user_ele, user_num, ques_ele=ques_ele_vec, ques_num=ques_num_vec, q_data=questions_data):\n",
    "    y = np.ones(len(row_data))*0.25\n",
    "    i = 0\n",
    "    for index, row in row_data.iterrows():\n",
    "        mask = q_data.vec[row.content_id]\n",
    "        ques_prob_vec = ques_ele/ques_num\n",
    "        if row.user_id in user_ele.keys():\n",
    "            borrow_index = (user_num[row.user_id] == 0)\n",
    "            user_prob_vec = user_ele[row.user_id]/user_num[row.user_id]\n",
    "            user_prob_vec[borrow_index] = ques_prob_vec[borrow_index]\n",
    "            y[i] = sum(user_prob_vec * mask)/sum(mask)\n",
    "        else:\n",
    "            y[i] = sum(ques_prob_vec * mask)/sum(mask)\n",
    "        i = i + 1\n",
    "    return y"
   ]
  },
  {
   "cell_type": "code",
   "execution_count": 13,
   "metadata": {
    "execution": {
     "iopub.execute_input": "2020-11-20T06:24:26.312896Z",
     "iopub.status.busy": "2020-11-20T06:24:26.312087Z",
     "iopub.status.idle": "2020-11-20T06:24:26.765857Z",
     "shell.execute_reply": "2020-11-20T06:24:26.765092Z"
    },
    "papermill": {
     "duration": 0.476275,
     "end_time": "2020-11-20T06:24:26.765992",
     "exception": false,
     "start_time": "2020-11-20T06:24:26.289717",
     "status": "completed"
    },
    "tags": []
   },
   "outputs": [
    {
     "name": "stderr",
     "output_type": "stream",
     "text": [
      "/opt/conda/lib/python3.7/site-packages/ipykernel_launcher.py:9: RuntimeWarning: invalid value encountered in true_divide\n",
      "  if __name__ == '__main__':\n",
      "/opt/conda/lib/python3.7/site-packages/ipykernel_launcher.py:9: RuntimeWarning: invalid value encountered in true_divide\n",
      "  if __name__ == '__main__':\n",
      "/opt/conda/lib/python3.7/site-packages/ipykernel_launcher.py:9: RuntimeWarning: invalid value encountered in true_divide\n",
      "  if __name__ == '__main__':\n"
     ]
    }
   ],
   "source": [
    "import riiideducation\n",
    "env = riiideducation.make_env()\n",
    "iter_test = env.iter_test()\n",
    "for (test_df, sample_prediction_df) in iter_test:\n",
    "    test_df = test_df[test_df.content_type_id == 0]\n",
    "    test_df['answered_correctly'] = predict_y(test_df,user_ele_dict, user_num_dict)\n",
    "    #print('-----------------------------------------')\n",
    "    #print(test_df[['row_id', 'answered_correctly']])\n",
    "    #print('-----------------------------------------')\n",
    "    env.predict(test_df[['row_id', 'answered_correctly']])"
   ]
  },
  {
   "cell_type": "code",
   "execution_count": 14,
   "metadata": {
    "execution": {
     "iopub.execute_input": "2020-11-20T06:24:26.802635Z",
     "iopub.status.busy": "2020-11-20T06:24:26.801678Z",
     "iopub.status.idle": "2020-11-20T06:24:26.805113Z",
     "shell.execute_reply": "2020-11-20T06:24:26.804242Z"
    },
    "papermill": {
     "duration": 0.023251,
     "end_time": "2020-11-20T06:24:26.805247",
     "exception": false,
     "start_time": "2020-11-20T06:24:26.781996",
     "status": "completed"
    },
    "tags": []
   },
   "outputs": [],
   "source": [
    "#test_sample = train_data_q.sample(n=10**6, random_state=99)\n",
    "#prob = predict_y(test_sample,user_ele_dict, user_num_dict)"
   ]
  },
  {
   "cell_type": "code",
   "execution_count": 15,
   "metadata": {
    "execution": {
     "iopub.execute_input": "2020-11-20T06:24:26.841802Z",
     "iopub.status.busy": "2020-11-20T06:24:26.840736Z",
     "iopub.status.idle": "2020-11-20T06:24:26.844113Z",
     "shell.execute_reply": "2020-11-20T06:24:26.843357Z"
    },
    "papermill": {
     "duration": 0.023352,
     "end_time": "2020-11-20T06:24:26.844236",
     "exception": false,
     "start_time": "2020-11-20T06:24:26.820884",
     "status": "completed"
    },
    "tags": []
   },
   "outputs": [],
   "source": [
    "#from sklearn.metrics import roc_auc_score\n",
    "#print(prob)\n",
    "#print(test_sample.answered_correctly.values)\n",
    "#print(roc_auc_score(test_sample.answered_correctly.values, prob))"
   ]
  }
 ],
 "metadata": {
  "kernelspec": {
   "display_name": "Python 3",
   "language": "python",
   "name": "python3"
  },
  "language_info": {
   "codemirror_mode": {
    "name": "ipython",
    "version": 3
   },
   "file_extension": ".py",
   "mimetype": "text/x-python",
   "name": "python",
   "nbconvert_exporter": "python",
   "pygments_lexer": "ipython3",
   "version": "3.7.6"
  },
  "papermill": {
   "duration": 2924.594868,
   "end_time": "2020-11-20T06:24:26.971660",
   "environment_variables": {},
   "exception": null,
   "input_path": "__notebook__.ipynb",
   "output_path": "__notebook__.ipynb",
   "parameters": {},
   "start_time": "2020-11-20T05:35:42.376792",
   "version": "2.1.0"
  }
 },
 "nbformat": 4,
 "nbformat_minor": 4
}
