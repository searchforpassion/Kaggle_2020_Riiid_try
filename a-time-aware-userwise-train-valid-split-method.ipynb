{
 "cells": [
  {
   "cell_type": "markdown",
   "metadata": {
    "papermill": {
     "duration": 0.012396,
     "end_time": "2020-12-04T05:28:44.026484",
     "exception": false,
     "start_time": "2020-12-04T05:28:44.014088",
     "status": "completed"
    },
    "tags": []
   },
   "source": [
    "As the train data is complete, and interactions of users are arranged chronologically. Unlike totally shuffle, I thought it would be one way to split train/valid data userwise as follows:"
   ]
  },
  {
   "cell_type": "code",
   "execution_count": 1,
   "metadata": {
    "_cell_guid": "79c7e3d0-c299-4dcb-8224-4455121ee9b0",
    "_uuid": "d629ff2d2480ee46fbb7e2d37f6b5fab8052498a",
    "execution": {
     "iopub.execute_input": "2020-12-04T05:28:44.058375Z",
     "iopub.status.busy": "2020-12-04T05:28:44.057615Z",
     "iopub.status.idle": "2020-12-04T05:28:44.061127Z",
     "shell.execute_reply": "2020-12-04T05:28:44.060221Z"
    },
    "papermill": {
     "duration": 0.02025,
     "end_time": "2020-12-04T05:28:44.061268",
     "exception": false,
     "start_time": "2020-12-04T05:28:44.041018",
     "status": "completed"
    },
    "tags": []
   },
   "outputs": [],
   "source": [
    "import numpy as np\n",
    "import pandas as pd"
   ]
  },
  {
   "cell_type": "markdown",
   "metadata": {
    "papermill": {
     "duration": 0.010876,
     "end_time": "2020-12-04T05:28:44.083791",
     "exception": false,
     "start_time": "2020-12-04T05:28:44.072915",
     "status": "completed"
    },
    "tags": []
   },
   "source": [
    "Load train.csv"
   ]
  },
  {
   "cell_type": "code",
   "execution_count": 2,
   "metadata": {
    "execution": {
     "iopub.execute_input": "2020-12-04T05:28:44.119212Z",
     "iopub.status.busy": "2020-12-04T05:28:44.118370Z",
     "iopub.status.idle": "2020-12-04T05:28:44.300133Z",
     "shell.execute_reply": "2020-12-04T05:28:44.299342Z"
    },
    "papermill": {
     "duration": 0.204943,
     "end_time": "2020-12-04T05:28:44.300262",
     "exception": false,
     "start_time": "2020-12-04T05:28:44.095319",
     "status": "completed"
    },
    "tags": []
   },
   "outputs": [],
   "source": [
    "train_dtypes_dict = {\n",
    "    \"row_id\": \"int64\",\n",
    "    \"timestamp\": \"int64\",\n",
    "    \"user_id\": \"int32\",\n",
    "    \"content_id\": \"int16\",\n",
    "    \"content_type_id\": \"int8\",\n",
    "    #\"task_container_id\": \"int16\",\n",
    "    #\"user_answer\": \"int8\",\n",
    "    \"answered_correctly\": \"int8\",\n",
    "    #\"prior_question_elapsed_time\": \"float32\", \n",
    "    #\"prior_question_had_explanation\": \"boolean\"\n",
    "}\n",
    "\n",
    "data = pd.read_csv(\"../input/riiid-test-answer-prediction/train.csv\",\n",
    "                         nrows=10**5, #how many rows to read\n",
    "                         usecols = train_dtypes_dict.keys(),\n",
    "                         dtype=train_dtypes_dict,\n",
    "                        )"
   ]
  },
  {
   "cell_type": "markdown",
   "metadata": {
    "papermill": {
     "duration": 0.011051,
     "end_time": "2020-12-04T05:28:44.322977",
     "exception": false,
     "start_time": "2020-12-04T05:28:44.311926",
     "status": "completed"
    },
    "tags": []
   },
   "source": [
    "Choose question type interaction only if you want."
   ]
  },
  {
   "cell_type": "code",
   "execution_count": 3,
   "metadata": {
    "execution": {
     "iopub.execute_input": "2020-12-04T05:28:44.359144Z",
     "iopub.status.busy": "2020-12-04T05:28:44.358166Z",
     "iopub.status.idle": "2020-12-04T05:28:44.403850Z",
     "shell.execute_reply": "2020-12-04T05:28:44.403224Z"
    },
    "papermill": {
     "duration": 0.06933,
     "end_time": "2020-12-04T05:28:44.403970",
     "exception": false,
     "start_time": "2020-12-04T05:28:44.334640",
     "status": "completed"
    },
    "tags": []
   },
   "outputs": [
    {
     "data": {
      "text/html": [
       "<div>\n",
       "<style scoped>\n",
       "    .dataframe tbody tr th:only-of-type {\n",
       "        vertical-align: middle;\n",
       "    }\n",
       "\n",
       "    .dataframe tbody tr th {\n",
       "        vertical-align: top;\n",
       "    }\n",
       "\n",
       "    .dataframe thead th {\n",
       "        text-align: right;\n",
       "    }\n",
       "</style>\n",
       "<table border=\"1\" class=\"dataframe\">\n",
       "  <thead>\n",
       "    <tr style=\"text-align: right;\">\n",
       "      <th></th>\n",
       "      <th>row_id</th>\n",
       "      <th>timestamp</th>\n",
       "      <th>user_id</th>\n",
       "      <th>content_id</th>\n",
       "      <th>content_type_id</th>\n",
       "      <th>answered_correctly</th>\n",
       "    </tr>\n",
       "  </thead>\n",
       "  <tbody>\n",
       "    <tr>\n",
       "      <th>0</th>\n",
       "      <td>0</td>\n",
       "      <td>0</td>\n",
       "      <td>115</td>\n",
       "      <td>5692</td>\n",
       "      <td>0</td>\n",
       "      <td>1</td>\n",
       "    </tr>\n",
       "    <tr>\n",
       "      <th>1</th>\n",
       "      <td>1</td>\n",
       "      <td>56943</td>\n",
       "      <td>115</td>\n",
       "      <td>5716</td>\n",
       "      <td>0</td>\n",
       "      <td>1</td>\n",
       "    </tr>\n",
       "    <tr>\n",
       "      <th>2</th>\n",
       "      <td>2</td>\n",
       "      <td>118363</td>\n",
       "      <td>115</td>\n",
       "      <td>128</td>\n",
       "      <td>0</td>\n",
       "      <td>1</td>\n",
       "    </tr>\n",
       "    <tr>\n",
       "      <th>3</th>\n",
       "      <td>3</td>\n",
       "      <td>131167</td>\n",
       "      <td>115</td>\n",
       "      <td>7860</td>\n",
       "      <td>0</td>\n",
       "      <td>1</td>\n",
       "    </tr>\n",
       "    <tr>\n",
       "      <th>4</th>\n",
       "      <td>4</td>\n",
       "      <td>137965</td>\n",
       "      <td>115</td>\n",
       "      <td>7922</td>\n",
       "      <td>0</td>\n",
       "      <td>1</td>\n",
       "    </tr>\n",
       "  </tbody>\n",
       "</table>\n",
       "</div>"
      ],
      "text/plain": [
       "   row_id  timestamp  user_id  content_id  content_type_id  answered_correctly\n",
       "0       0          0      115        5692                0                   1\n",
       "1       1      56943      115        5716                0                   1\n",
       "2       2     118363      115         128                0                   1\n",
       "3       3     131167      115        7860                0                   1\n",
       "4       4     137965      115        7922                0                   1"
      ]
     },
     "execution_count": 3,
     "metadata": {},
     "output_type": "execute_result"
    }
   ],
   "source": [
    "data_q = data[data.content_type_id == 0]\n",
    "data_q.head()"
   ]
  },
  {
   "cell_type": "markdown",
   "metadata": {
    "papermill": {
     "duration": 0.011861,
     "end_time": "2020-12-04T05:28:44.428588",
     "exception": false,
     "start_time": "2020-12-04T05:28:44.416727",
     "status": "completed"
    },
    "tags": []
   },
   "source": [
    "Get users and their interaction counts"
   ]
  },
  {
   "cell_type": "code",
   "execution_count": 4,
   "metadata": {
    "execution": {
     "iopub.execute_input": "2020-12-04T05:28:44.460046Z",
     "iopub.status.busy": "2020-12-04T05:28:44.459210Z",
     "iopub.status.idle": "2020-12-04T05:28:44.469578Z",
     "shell.execute_reply": "2020-12-04T05:28:44.468809Z"
    },
    "papermill": {
     "duration": 0.028911,
     "end_time": "2020-12-04T05:28:44.469718",
     "exception": false,
     "start_time": "2020-12-04T05:28:44.440807",
     "status": "completed"
    },
    "tags": []
   },
   "outputs": [
    {
     "name": "stdout",
     "output_type": "stream",
     "text": [
      "Int64Index([1283420, 24418, 1440282, 1282581, 2041025], dtype='int64')\n",
      "1283420    7476\n",
      "24418      6283\n",
      "1440282    5620\n",
      "1282581    4993\n",
      "2041025    4343\n",
      "Name: user_id, dtype: int64\n"
     ]
    }
   ],
   "source": [
    "users_i_counts = data_q.user_id.value_counts()\n",
    "user_list = users_i_counts.keys()\n",
    "print(user_list[:5])\n",
    "print(users_i_counts.head())"
   ]
  },
  {
   "cell_type": "markdown",
   "metadata": {
    "papermill": {
     "duration": 0.012536,
     "end_time": "2020-12-04T05:28:44.495091",
     "exception": false,
     "start_time": "2020-12-04T05:28:44.482555",
     "status": "completed"
    },
    "tags": []
   },
   "source": [
    "Choose how many users you want to train depending on their interaction counts. For example, if you want interaction counts greater than 6000, you can choose the first two users in user_list. And valid_num below controls how many valid data you want."
   ]
  },
  {
   "cell_type": "code",
   "execution_count": 5,
   "metadata": {
    "execution": {
     "iopub.execute_input": "2020-12-04T05:28:44.530916Z",
     "iopub.status.busy": "2020-12-04T05:28:44.529801Z",
     "iopub.status.idle": "2020-12-04T05:28:44.543102Z",
     "shell.execute_reply": "2020-12-04T05:28:44.542308Z"
    },
    "papermill": {
     "duration": 0.035209,
     "end_time": "2020-12-04T05:28:44.543225",
     "exception": false,
     "start_time": "2020-12-04T05:28:44.508016",
     "status": "completed"
    },
    "tags": []
   },
   "outputs": [],
   "source": [
    "user_num = 2 #control how many user to train\n",
    "valid_num = 2 #control how many valid data to keep\n",
    "train_data = pd.concat([data_q[data_q.user_id==u][:-valid_num] for u in user_list[:user_num]], axis=0)\n",
    "valid_data = pd.concat([data_q[data_q.user_id==u][-valid_num:] for u in user_list[:user_num]], axis=0)"
   ]
  },
  {
   "cell_type": "code",
   "execution_count": 6,
   "metadata": {
    "execution": {
     "iopub.execute_input": "2020-12-04T05:28:44.585666Z",
     "iopub.status.busy": "2020-12-04T05:28:44.584500Z",
     "iopub.status.idle": "2020-12-04T05:28:44.589082Z",
     "shell.execute_reply": "2020-12-04T05:28:44.589670Z"
    },
    "papermill": {
     "duration": 0.033492,
     "end_time": "2020-12-04T05:28:44.589820",
     "exception": false,
     "start_time": "2020-12-04T05:28:44.556328",
     "status": "completed"
    },
    "tags": []
   },
   "outputs": [
    {
     "data": {
      "text/html": [
       "<div>\n",
       "<style scoped>\n",
       "    .dataframe tbody tr th:only-of-type {\n",
       "        vertical-align: middle;\n",
       "    }\n",
       "\n",
       "    .dataframe tbody tr th {\n",
       "        vertical-align: top;\n",
       "    }\n",
       "\n",
       "    .dataframe thead th {\n",
       "        text-align: right;\n",
       "    }\n",
       "</style>\n",
       "<table border=\"1\" class=\"dataframe\">\n",
       "  <thead>\n",
       "    <tr style=\"text-align: right;\">\n",
       "      <th></th>\n",
       "      <th>row_id</th>\n",
       "      <th>timestamp</th>\n",
       "      <th>user_id</th>\n",
       "      <th>content_id</th>\n",
       "      <th>content_type_id</th>\n",
       "      <th>answered_correctly</th>\n",
       "    </tr>\n",
       "  </thead>\n",
       "  <tbody>\n",
       "    <tr>\n",
       "      <th>54058</th>\n",
       "      <td>54058</td>\n",
       "      <td>0</td>\n",
       "      <td>1283420</td>\n",
       "      <td>3822</td>\n",
       "      <td>0</td>\n",
       "      <td>1</td>\n",
       "    </tr>\n",
       "    <tr>\n",
       "      <th>54059</th>\n",
       "      <td>54059</td>\n",
       "      <td>29795</td>\n",
       "      <td>1283420</td>\n",
       "      <td>638</td>\n",
       "      <td>0</td>\n",
       "      <td>1</td>\n",
       "    </tr>\n",
       "    <tr>\n",
       "      <th>54060</th>\n",
       "      <td>54060</td>\n",
       "      <td>91982</td>\n",
       "      <td>1283420</td>\n",
       "      <td>4231</td>\n",
       "      <td>0</td>\n",
       "      <td>0</td>\n",
       "    </tr>\n",
       "    <tr>\n",
       "      <th>54061</th>\n",
       "      <td>54061</td>\n",
       "      <td>117342</td>\n",
       "      <td>1283420</td>\n",
       "      <td>7978</td>\n",
       "      <td>0</td>\n",
       "      <td>0</td>\n",
       "    </tr>\n",
       "    <tr>\n",
       "      <th>54062</th>\n",
       "      <td>54062</td>\n",
       "      <td>145733</td>\n",
       "      <td>1283420</td>\n",
       "      <td>8225</td>\n",
       "      <td>0</td>\n",
       "      <td>1</td>\n",
       "    </tr>\n",
       "    <tr>\n",
       "      <th>...</th>\n",
       "      <td>...</td>\n",
       "      <td>...</td>\n",
       "      <td>...</td>\n",
       "      <td>...</td>\n",
       "      <td>...</td>\n",
       "      <td>...</td>\n",
       "    </tr>\n",
       "    <tr>\n",
       "      <th>8331</th>\n",
       "      <td>8331</td>\n",
       "      <td>14243544102</td>\n",
       "      <td>24418</td>\n",
       "      <td>8895</td>\n",
       "      <td>0</td>\n",
       "      <td>0</td>\n",
       "    </tr>\n",
       "    <tr>\n",
       "      <th>8332</th>\n",
       "      <td>8332</td>\n",
       "      <td>14243573690</td>\n",
       "      <td>24418</td>\n",
       "      <td>5016</td>\n",
       "      <td>0</td>\n",
       "      <td>1</td>\n",
       "    </tr>\n",
       "    <tr>\n",
       "      <th>8333</th>\n",
       "      <td>8333</td>\n",
       "      <td>14243646189</td>\n",
       "      <td>24418</td>\n",
       "      <td>4673</td>\n",
       "      <td>0</td>\n",
       "      <td>0</td>\n",
       "    </tr>\n",
       "    <tr>\n",
       "      <th>8334</th>\n",
       "      <td>8334</td>\n",
       "      <td>14243678701</td>\n",
       "      <td>24418</td>\n",
       "      <td>4174</td>\n",
       "      <td>0</td>\n",
       "      <td>1</td>\n",
       "    </tr>\n",
       "    <tr>\n",
       "      <th>8335</th>\n",
       "      <td>8335</td>\n",
       "      <td>14243691749</td>\n",
       "      <td>24418</td>\n",
       "      <td>4736</td>\n",
       "      <td>0</td>\n",
       "      <td>1</td>\n",
       "    </tr>\n",
       "  </tbody>\n",
       "</table>\n",
       "<p>13755 rows × 6 columns</p>\n",
       "</div>"
      ],
      "text/plain": [
       "       row_id    timestamp  user_id  content_id  content_type_id  \\\n",
       "54058   54058            0  1283420        3822                0   \n",
       "54059   54059        29795  1283420         638                0   \n",
       "54060   54060        91982  1283420        4231                0   \n",
       "54061   54061       117342  1283420        7978                0   \n",
       "54062   54062       145733  1283420        8225                0   \n",
       "...       ...          ...      ...         ...              ...   \n",
       "8331     8331  14243544102    24418        8895                0   \n",
       "8332     8332  14243573690    24418        5016                0   \n",
       "8333     8333  14243646189    24418        4673                0   \n",
       "8334     8334  14243678701    24418        4174                0   \n",
       "8335     8335  14243691749    24418        4736                0   \n",
       "\n",
       "       answered_correctly  \n",
       "54058                   1  \n",
       "54059                   1  \n",
       "54060                   0  \n",
       "54061                   0  \n",
       "54062                   1  \n",
       "...                   ...  \n",
       "8331                    0  \n",
       "8332                    1  \n",
       "8333                    0  \n",
       "8334                    1  \n",
       "8335                    1  \n",
       "\n",
       "[13755 rows x 6 columns]"
      ]
     },
     "execution_count": 6,
     "metadata": {},
     "output_type": "execute_result"
    }
   ],
   "source": [
    "train_data"
   ]
  },
  {
   "cell_type": "code",
   "execution_count": 7,
   "metadata": {
    "execution": {
     "iopub.execute_input": "2020-12-04T05:28:44.629271Z",
     "iopub.status.busy": "2020-12-04T05:28:44.628299Z",
     "iopub.status.idle": "2020-12-04T05:28:44.632679Z",
     "shell.execute_reply": "2020-12-04T05:28:44.633209Z"
    },
    "papermill": {
     "duration": 0.029484,
     "end_time": "2020-12-04T05:28:44.633367",
     "exception": false,
     "start_time": "2020-12-04T05:28:44.603883",
     "status": "completed"
    },
    "tags": []
   },
   "outputs": [
    {
     "data": {
      "text/html": [
       "<div>\n",
       "<style scoped>\n",
       "    .dataframe tbody tr th:only-of-type {\n",
       "        vertical-align: middle;\n",
       "    }\n",
       "\n",
       "    .dataframe tbody tr th {\n",
       "        vertical-align: top;\n",
       "    }\n",
       "\n",
       "    .dataframe thead th {\n",
       "        text-align: right;\n",
       "    }\n",
       "</style>\n",
       "<table border=\"1\" class=\"dataframe\">\n",
       "  <thead>\n",
       "    <tr style=\"text-align: right;\">\n",
       "      <th></th>\n",
       "      <th>row_id</th>\n",
       "      <th>timestamp</th>\n",
       "      <th>user_id</th>\n",
       "      <th>content_id</th>\n",
       "      <th>content_type_id</th>\n",
       "      <th>answered_correctly</th>\n",
       "    </tr>\n",
       "  </thead>\n",
       "  <tbody>\n",
       "    <tr>\n",
       "      <th>61625</th>\n",
       "      <td>61625</td>\n",
       "      <td>22373215518</td>\n",
       "      <td>1283420</td>\n",
       "      <td>3400</td>\n",
       "      <td>0</td>\n",
       "      <td>0</td>\n",
       "    </tr>\n",
       "    <tr>\n",
       "      <th>61626</th>\n",
       "      <td>61626</td>\n",
       "      <td>22373215518</td>\n",
       "      <td>1283420</td>\n",
       "      <td>3399</td>\n",
       "      <td>0</td>\n",
       "      <td>1</td>\n",
       "    </tr>\n",
       "    <tr>\n",
       "      <th>8336</th>\n",
       "      <td>8336</td>\n",
       "      <td>14243703953</td>\n",
       "      <td>24418</td>\n",
       "      <td>4612</td>\n",
       "      <td>0</td>\n",
       "      <td>1</td>\n",
       "    </tr>\n",
       "    <tr>\n",
       "      <th>8337</th>\n",
       "      <td>8337</td>\n",
       "      <td>14243735782</td>\n",
       "      <td>24418</td>\n",
       "      <td>4163</td>\n",
       "      <td>0</td>\n",
       "      <td>1</td>\n",
       "    </tr>\n",
       "  </tbody>\n",
       "</table>\n",
       "</div>"
      ],
      "text/plain": [
       "       row_id    timestamp  user_id  content_id  content_type_id  \\\n",
       "61625   61625  22373215518  1283420        3400                0   \n",
       "61626   61626  22373215518  1283420        3399                0   \n",
       "8336     8336  14243703953    24418        4612                0   \n",
       "8337     8337  14243735782    24418        4163                0   \n",
       "\n",
       "       answered_correctly  \n",
       "61625                   0  \n",
       "61626                   1  \n",
       "8336                    1  \n",
       "8337                    1  "
      ]
     },
     "execution_count": 7,
     "metadata": {},
     "output_type": "execute_result"
    }
   ],
   "source": [
    "valid_data"
   ]
  },
  {
   "cell_type": "markdown",
   "metadata": {
    "papermill": {
     "duration": 0.01435,
     "end_time": "2020-12-04T05:28:44.662928",
     "exception": false,
     "start_time": "2020-12-04T05:28:44.648578",
     "status": "completed"
    },
    "tags": []
   },
   "source": [
    "Check where different users separate in train_data"
   ]
  },
  {
   "cell_type": "code",
   "execution_count": 8,
   "metadata": {
    "execution": {
     "iopub.execute_input": "2020-12-04T05:28:44.705232Z",
     "iopub.status.busy": "2020-12-04T05:28:44.704102Z",
     "iopub.status.idle": "2020-12-04T05:28:44.708584Z",
     "shell.execute_reply": "2020-12-04T05:28:44.707847Z"
    },
    "papermill": {
     "duration": 0.030982,
     "end_time": "2020-12-04T05:28:44.708707",
     "exception": false,
     "start_time": "2020-12-04T05:28:44.677725",
     "status": "completed"
    },
    "tags": []
   },
   "outputs": [
    {
     "data": {
      "text/html": [
       "<div>\n",
       "<style scoped>\n",
       "    .dataframe tbody tr th:only-of-type {\n",
       "        vertical-align: middle;\n",
       "    }\n",
       "\n",
       "    .dataframe tbody tr th {\n",
       "        vertical-align: top;\n",
       "    }\n",
       "\n",
       "    .dataframe thead th {\n",
       "        text-align: right;\n",
       "    }\n",
       "</style>\n",
       "<table border=\"1\" class=\"dataframe\">\n",
       "  <thead>\n",
       "    <tr style=\"text-align: right;\">\n",
       "      <th></th>\n",
       "      <th>row_id</th>\n",
       "      <th>timestamp</th>\n",
       "      <th>user_id</th>\n",
       "      <th>content_id</th>\n",
       "      <th>content_type_id</th>\n",
       "      <th>answered_correctly</th>\n",
       "    </tr>\n",
       "  </thead>\n",
       "  <tbody>\n",
       "    <tr>\n",
       "      <th>61623</th>\n",
       "      <td>61623</td>\n",
       "      <td>22364257029</td>\n",
       "      <td>1283420</td>\n",
       "      <td>2039</td>\n",
       "      <td>0</td>\n",
       "      <td>1</td>\n",
       "    </tr>\n",
       "    <tr>\n",
       "      <th>61624</th>\n",
       "      <td>61624</td>\n",
       "      <td>22373215518</td>\n",
       "      <td>1283420</td>\n",
       "      <td>3401</td>\n",
       "      <td>0</td>\n",
       "      <td>1</td>\n",
       "    </tr>\n",
       "    <tr>\n",
       "      <th>1874</th>\n",
       "      <td>1874</td>\n",
       "      <td>0</td>\n",
       "      <td>24418</td>\n",
       "      <td>7900</td>\n",
       "      <td>0</td>\n",
       "      <td>0</td>\n",
       "    </tr>\n",
       "    <tr>\n",
       "      <th>1875</th>\n",
       "      <td>1875</td>\n",
       "      <td>24224</td>\n",
       "      <td>24418</td>\n",
       "      <td>7876</td>\n",
       "      <td>0</td>\n",
       "      <td>0</td>\n",
       "    </tr>\n",
       "  </tbody>\n",
       "</table>\n",
       "</div>"
      ],
      "text/plain": [
       "       row_id    timestamp  user_id  content_id  content_type_id  \\\n",
       "61623   61623  22364257029  1283420        2039                0   \n",
       "61624   61624  22373215518  1283420        3401                0   \n",
       "1874     1874            0    24418        7900                0   \n",
       "1875     1875        24224    24418        7876                0   \n",
       "\n",
       "       answered_correctly  \n",
       "61623                   1  \n",
       "61624                   1  \n",
       "1874                    0  \n",
       "1875                    0  "
      ]
     },
     "execution_count": 8,
     "metadata": {},
     "output_type": "execute_result"
    }
   ],
   "source": [
    "train_data[7472:7476]"
   ]
  },
  {
   "cell_type": "markdown",
   "metadata": {
    "papermill": {
     "duration": 0.015023,
     "end_time": "2020-12-04T05:28:44.739422",
     "exception": false,
     "start_time": "2020-12-04T05:28:44.724399",
     "status": "completed"
    },
    "tags": []
   },
   "source": [
    "So as you can see, valid data always come after train data. It's a time-aware userwise train-valid-split method."
   ]
  }
 ],
 "metadata": {
  "kernelspec": {
   "display_name": "Python 3",
   "language": "python",
   "name": "python3"
  },
  "language_info": {
   "codemirror_mode": {
    "name": "ipython",
    "version": 3
   },
   "file_extension": ".py",
   "mimetype": "text/x-python",
   "name": "python",
   "nbconvert_exporter": "python",
   "pygments_lexer": "ipython3",
   "version": "3.7.6"
  },
  "papermill": {
   "duration": 6.966902,
   "end_time": "2020-12-04T05:28:45.829139",
   "environment_variables": {},
   "exception": null,
   "input_path": "__notebook__.ipynb",
   "output_path": "__notebook__.ipynb",
   "parameters": {},
   "start_time": "2020-12-04T05:28:38.862237",
   "version": "2.1.0"
  }
 },
 "nbformat": 4,
 "nbformat_minor": 4
}
