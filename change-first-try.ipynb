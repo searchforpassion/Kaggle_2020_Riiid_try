{
 "cells": [
  {
   "cell_type": "code",
   "execution_count": 1,
   "metadata": {
    "_cell_guid": "79c7e3d0-c299-4dcb-8224-4455121ee9b0",
    "_uuid": "d629ff2d2480ee46fbb7e2d37f6b5fab8052498a",
    "execution": {
     "iopub.execute_input": "2020-12-13T01:10:56.090472Z",
     "iopub.status.busy": "2020-12-13T01:10:56.089511Z",
     "iopub.status.idle": "2020-12-13T01:11:14.273262Z",
     "shell.execute_reply": "2020-12-13T01:11:14.272567Z"
    },
    "papermill": {
     "duration": 18.199794,
     "end_time": "2020-12-13T01:11:14.273432",
     "exception": false,
     "start_time": "2020-12-13T01:10:56.073638",
     "status": "completed"
    },
    "tags": []
   },
   "outputs": [],
   "source": [
    "import numpy as np\n",
    "import pandas as pd\n",
    "from tqdm import tqdm\n",
    "import pickle\n",
    "\n",
    "with open('../input/pretrained-for-riiid/user_ele_dict.pkl', 'rb') as f:\n",
    "    user_ele_dict = pickle.load(f)\n",
    "\n",
    "with open('../input/pretrained-for-riiid/user_num_dict.pkl', 'rb') as f:\n",
    "    user_num_dict = pickle.load(f)\n"
   ]
  },
  {
   "cell_type": "code",
   "execution_count": 2,
   "metadata": {
    "execution": {
     "iopub.execute_input": "2020-12-13T01:11:14.296515Z",
     "iopub.status.busy": "2020-12-13T01:11:14.295731Z",
     "iopub.status.idle": "2020-12-13T01:11:21.085095Z",
     "shell.execute_reply": "2020-12-13T01:11:21.086154Z"
    },
    "papermill": {
     "duration": 6.806247,
     "end_time": "2020-12-13T01:11:21.086506",
     "exception": false,
     "start_time": "2020-12-13T01:11:14.280259",
     "status": "completed"
    },
    "tags": []
   },
   "outputs": [
    {
     "data": {
      "text/html": [
       "<style type='text/css'>\n",
       ".datatable table.frame { margin-bottom: 0; }\n",
       ".datatable table.frame thead { border-bottom: none; }\n",
       ".datatable table.frame tr.coltypes td {  color: #FFFFFF;  line-height: 6px;  padding: 0 0.5em;}\n",
       ".datatable .bool    { background: #DDDD99; }\n",
       ".datatable .object  { background: #565656; }\n",
       ".datatable .int     { background: #5D9E5D; }\n",
       ".datatable .float   { background: #4040CC; }\n",
       ".datatable .str     { background: #CC4040; }\n",
       ".datatable .row_index {  background: var(--jp-border-color3);  border-right: 1px solid var(--jp-border-color0);  color: var(--jp-ui-font-color3);  font-size: 9px;}\n",
       ".datatable .frame tr.coltypes .row_index {  background: var(--jp-border-color0);}\n",
       ".datatable th:nth-child(2) { padding-left: 12px; }\n",
       ".datatable .hellipsis {  color: var(--jp-cell-editor-border-color);}\n",
       ".datatable .vellipsis {  background: var(--jp-layout-color0);  color: var(--jp-cell-editor-border-color);}\n",
       ".datatable .na {  color: var(--jp-cell-editor-border-color);  font-size: 80%;}\n",
       ".datatable .footer { font-size: 9px; }\n",
       ".datatable .frame_dimensions {  background: var(--jp-border-color3);  border-top: 1px solid var(--jp-border-color0);  color: var(--jp-ui-font-color3);  display: inline-block;  opacity: 0.6;  padding: 1px 10px 1px 5px;}\n",
       ".datatable .frame thead tr.colnames {  background-image: url('data:image/png;base64,iVBORw0KGgoAAAANSUhEUgAAABwAAAA4CAYAAADuMJi0AAAGR0lEQVR42rVZ21IbRxBtCbQrkIR2dQVjsLmDLBsET3nTQ8ouYRkQVf6e/E9+Im958qMfkgoXAaKSSj6C9Jnd2R2NeiRSRaZqitVOT5+Z6dNnWoKGlN94JFp8Ipofkb/7SOXjGyp8wF+z35K3f0uUp/GW4XfLQ8v2gefj3ZCCzojoNfue+43o1Q3l3xB/yA3JO7jnF2pCLnI+pNyx/qw7L+SQ7T2N9p2f8c60QcfcK6KGXsAd+ZvA4LlZYuSSAoOhMs5vwJkEGDlbPMaJoA+FcQ0IH38QLWkbAFLkOOhoMF5tU6/eBRhNjro0ZgKiPRAt3FLhCO/vqdgmNTm32LkmKpvBmQY4q5uAaAgbwDBG2BVv3bfI8KKAMWj2kfw9+pkZREIbEql4ST1x7hgHIANkbJ//MF8mAH/ilTCJ2tIi4ASr1IC3VNqXHKOxjy34mgoImnOQtx1g81fkqTiMOBVGcTogNhiT5iBHET8R8C+iApJUmgim3SQAXhsLQz7ee2G8gOAQNtJckBEplADiAxtX+G9NmhDl0qJKnTvyWlAMPYZnvIviGXRg6/Dh824DBXhP/tbfREXJEIvQ+aaPGjG7pvw6r3xdx+9hqb4dgZaP2XmdHO2K/B0c1+oUph6k8kShBryl/Ft0DYgjTlOieOACHFFpVyUl72T9V3cM1jUoYvxIC2vpCSys/ck70mDYuYvdvKjlMdKAUThneWVU1aAsyjv6PURDiwNsHGBZzY+JtAAgE2TFxdRHJdyIp/f+zqu09M5cDP2F08Ukkpj4YNSdX950HY2pNCCUK/Hhx5ZMBfjNSEzdsIihVzzAMdn9dz4eDYhnyQb9SSCiAryiJcQk82LiTbJ4x2FZJaUenpKnzP95WyDf4Y+QN9EFHHSeDLGdBjjKNQ5vKHf4XMA7KrY0y0GEObBOO/8e1ywuQExOHXktuQyJALEBpcEqhwtHqgiDuCK5b6i0p2MQpcckIIoh+6hYgTZtO8xlMi6O4tKCF/kOGHEg/W0UUpHW0ZoGNZ1ExZWcn7EErgwt4uj50E/sFBjXXIayWvh7WryjasxarZKssXon0zxvvkc32Q0bqbBCuZiKt9dWFysfQefeL29JYFaeztX6tePaZdz5mYx8+6Zq3Mk0wXECQxlhdzgS2wjBHju3j1RIgKyOMdNUE8X0+RAdbSapS11MRCv1SzUXmO6wGZe2SQYrv2MvCSWEv2VODE6DN7bz8ufypgQKW7uQskFTQHULLKyaEyrnlZbgOGLrV5qrn9U79jjm2HJmgkaVN98AfBub91lGPLZBqdroN5LYgjSu4zYZDDHXZOIPC691HqrWI1900I8qLzgKP4ft8DxEWigprPfrO+KcXno9gZz4jjGewWdUcpGCj0qVFuGPYbl2VturndZ2qRvlL8acDO6lF/DY/VjsFesiUK+ypJ+r/ep+cJkSQxEK4PG4WozgA75TYrDDqStE69K8/mzGEM+JXTeqvmedEElMmwCMm2SLd6bNNF9su02zEtoW6nAQtpMj5Gd7fKa//wqonF7UdtHFsVn+6hf1o7AfriPH7M6EeIUEF5zKVxXbYo7kS/OEtOqDYZKPoBsETIixn0uYrasThmzDkhdKPkz2EnaX0HdQbIgr59vAdGYDqjHrxkjS7WOxkTD8sqEqhiwcJETgBYigrBqF08KyDaje9SZ/I1A7MzaTzMGDEulPtZUkuKcyIRAjxEJPVrnVlb/9wkfij31D/pQt1IN+iL8bGJcstBIO7Y5VI/cwDqURbXhMuJxBqD0KLoK3esWFs0Jz5i5ZvJUAfFJMFb9XmGIOnzGpijpcWYCaMqXSQWp8EnCABepQ0Elyi4wfKfsw78ikIqif1pe1AGPlLmojl1SKxHHXp1L+Ut7AmDQHvhI5xHGi4EooO2BR7k78PEkJOdL7cAxQUZ/Tyclu9gnfwGgOmm2lNHGNmZXsq4Pqgc1EG1ATrvKl8s4R9ywwnqulGUnaRLVhxy8v3ieUwy2hbooT68uscW++DCDH0WSzuoyN2D4LUJ/tLECbcSKznwMIFs0ChF4mRTCnQbIIfk4SHJo6A9BMuTnXTs3Ku/KxsgZWqzuSe+Os8cEUfnMBY6UF5gi3SUbd5K7vDjq5WW0UENJlRsWn4sy21Er/E/AvPQSFHy1p4fgAAAAASUVORK5CYII=');  background-repeat: repeat-x;  background-size: 14px;  height: 28px;}\n",
       "</style>\n"
      ],
      "text/plain": [
       "<IPython.core.display.HTML object>"
      ]
     },
     "metadata": {},
     "output_type": "display_data"
    }
   ],
   "source": [
    "import lightgbm as lgb\n",
    "#model = lgb.Booster(model_file='../input/boostingmodel/lgb-model-boosting.txt')\n",
    "model_dict = dict()\n",
    "for i in range(100):\n",
    "    model_dict[\"model{0}\".format(i)] = lgb.Booster(model_file='../input/baggingmodels/lgb-model-bagging'+str(i)+'.txt')"
   ]
  },
  {
   "cell_type": "code",
   "execution_count": 3,
   "metadata": {
    "execution": {
     "iopub.execute_input": "2020-12-13T01:11:21.117927Z",
     "iopub.status.busy": "2020-12-13T01:11:21.116325Z",
     "iopub.status.idle": "2020-12-13T01:11:37.366402Z",
     "shell.execute_reply": "2020-12-13T01:11:37.365602Z"
    },
    "papermill": {
     "duration": 16.269734,
     "end_time": "2020-12-13T01:11:37.366543",
     "exception": false,
     "start_time": "2020-12-13T01:11:21.096809",
     "status": "completed"
    },
    "tags": []
   },
   "outputs": [],
   "source": [
    "question_dtype = {\n",
    "    'question_id':'int16',\n",
    "    'tags':'object'\n",
    "}\n",
    "questions_data = pd.read_csv('../input/riiid-test-answer-prediction/questions.csv',\n",
    "                             usecols = question_dtype.keys(), \n",
    "                             dtype = question_dtype)\n",
    "\n",
    "questions_data.tags.fillna('92',inplace=True)\n",
    "\n",
    "def gen_vec(row):\n",
    "    row['vec'] = np.zeros(188)\n",
    "    index_list = row.tags.split()\n",
    "    for index_ in index_list:\n",
    "        row.vec[int(index_)] = 1.0\n",
    "    return row\n",
    "\n",
    "questions_data = questions_data.apply(gen_vec, axis='columns')"
   ]
  },
  {
   "cell_type": "code",
   "execution_count": 4,
   "metadata": {
    "execution": {
     "iopub.execute_input": "2020-12-13T01:11:37.387521Z",
     "iopub.status.busy": "2020-12-13T01:11:37.386710Z",
     "iopub.status.idle": "2020-12-13T01:11:37.390610Z",
     "shell.execute_reply": "2020-12-13T01:11:37.389858Z"
    },
    "papermill": {
     "duration": 0.016691,
     "end_time": "2020-12-13T01:11:37.390732",
     "exception": false,
     "start_time": "2020-12-13T01:11:37.374041",
     "status": "completed"
    },
    "tags": []
   },
   "outputs": [],
   "source": [
    "import warnings\n",
    "warnings.filterwarnings(\"ignore\", message=\"invalid value encountered\")"
   ]
  },
  {
   "cell_type": "code",
   "execution_count": 5,
   "metadata": {
    "execution": {
     "iopub.execute_input": "2020-12-13T01:11:37.418495Z",
     "iopub.status.busy": "2020-12-13T01:11:37.417351Z",
     "iopub.status.idle": "2020-12-13T01:11:37.421495Z",
     "shell.execute_reply": "2020-12-13T01:11:37.420802Z"
    },
    "papermill": {
     "duration": 0.023388,
     "end_time": "2020-12-13T01:11:37.421641",
     "exception": false,
     "start_time": "2020-12-13T01:11:37.398253",
     "status": "completed"
    },
    "tags": []
   },
   "outputs": [],
   "source": [
    "def pre_X(df, ele_dict=user_ele_dict, num_dict=user_num_dict, q_data=questions_data):\n",
    "    m = len(df)\n",
    "    X = np.zeros((m,188*2))\n",
    "    i = 0\n",
    "    for index, row in df.iterrows():\n",
    "        mask = q_data.vec[row.content_id]\n",
    "        if row.user_id in ele_dict.keys():\n",
    "            X[i,:188] = np.nan_to_num(ele_dict[row.user_id]/num_dict[row.user_id],nan=0.25)\n",
    "        else:\n",
    "            X[i,:188] = np.ones(188)*0.25\n",
    "        X[i,188:] = mask\n",
    "        i = i + 1\n",
    "    return X"
   ]
  },
  {
   "cell_type": "code",
   "execution_count": 6,
   "metadata": {
    "execution": {
     "iopub.execute_input": "2020-12-13T01:11:37.447732Z",
     "iopub.status.busy": "2020-12-13T01:11:37.446875Z",
     "iopub.status.idle": "2020-12-13T01:11:38.229477Z",
     "shell.execute_reply": "2020-12-13T01:11:38.228674Z"
    },
    "papermill": {
     "duration": 0.799764,
     "end_time": "2020-12-13T01:11:38.229640",
     "exception": false,
     "start_time": "2020-12-13T01:11:37.429876",
     "status": "completed"
    },
    "tags": []
   },
   "outputs": [],
   "source": [
    "import riiideducation\n",
    "env = riiideducation.make_env()\n",
    "iter_test = env.iter_test()\n",
    "for (test_df, sample_prediction_df) in iter_test:\n",
    "    test_df = test_df[test_df.content_type_id == 0]\n",
    "    X_test = pre_X(test_df)\n",
    "    test_df['answered_correctly'] = np.mean([model_dict[\"model{0}\".format(i)].predict(X_test) for i in range(100)],axis=0)\n",
    "    #print('-----------------------------------------')\n",
    "    #print(test_df[['row_id', 'answered_correctly']])\n",
    "    #print('-----------------------------------------')\n",
    "    env.predict(test_df[['row_id', 'answered_correctly']])"
   ]
  }
 ],
 "metadata": {
  "kernelspec": {
   "display_name": "Python 3",
   "language": "python",
   "name": "python3"
  },
  "language_info": {
   "codemirror_mode": {
    "name": "ipython",
    "version": 3
   },
   "file_extension": ".py",
   "mimetype": "text/x-python",
   "name": "python",
   "nbconvert_exporter": "python",
   "pygments_lexer": "ipython3",
   "version": "3.7.6"
  },
  "papermill": {
   "duration": 47.645609,
   "end_time": "2020-12-13T01:11:38.346969",
   "environment_variables": {},
   "exception": null,
   "input_path": "__notebook__.ipynb",
   "output_path": "__notebook__.ipynb",
   "parameters": {},
   "start_time": "2020-12-13T01:10:50.701360",
   "version": "2.1.0"
  }
 },
 "nbformat": 4,
 "nbformat_minor": 4
}
