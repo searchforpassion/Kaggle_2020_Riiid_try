{
 "cells": [
  {
   "cell_type": "code",
   "execution_count": 1,
   "metadata": {
    "_cell_guid": "79c7e3d0-c299-4dcb-8224-4455121ee9b0",
    "_kg_hide-input": true,
    "_uuid": "d629ff2d2480ee46fbb7e2d37f6b5fab8052498a",
    "execution": {
     "iopub.execute_input": "2020-11-26T07:35:11.991558Z",
     "iopub.status.busy": "2020-11-26T07:35:11.990899Z",
     "iopub.status.idle": "2020-11-26T07:35:13.050150Z",
     "shell.execute_reply": "2020-11-26T07:35:13.049506Z"
    },
    "papermill": {
     "duration": 1.083983,
     "end_time": "2020-11-26T07:35:13.050265",
     "exception": false,
     "start_time": "2020-11-26T07:35:11.966282",
     "status": "completed"
    },
    "tags": []
   },
   "outputs": [
    {
     "name": "stdout",
     "output_type": "stream",
     "text": [
      "/kaggle/input/riiid-test-answer-prediction/example_sample_submission.csv\n",
      "/kaggle/input/riiid-test-answer-prediction/train.csv\n",
      "/kaggle/input/riiid-test-answer-prediction/example_test.csv\n",
      "/kaggle/input/riiid-test-answer-prediction/questions.csv\n",
      "/kaggle/input/riiid-test-answer-prediction/lectures.csv\n",
      "/kaggle/input/riiid-test-answer-prediction/riiideducation/__init__.py\n",
      "/kaggle/input/riiid-test-answer-prediction/riiideducation/competition.cpython-37m-x86_64-linux-gnu.so\n"
     ]
    }
   ],
   "source": [
    "\n",
    "\n",
    "import numpy as np\n",
    "import pandas as pd\n",
    "import riiideducation\n",
    "import matplotlib.pyplot as plt\n",
    "%matplotlib inline\n",
    "import matplotlib.style as style\n",
    "style.use('fivethirtyeight')\n",
    "import seaborn as sns\n",
    "import os\n",
    "import lightgbm as lgb\n",
    "from sklearn.metrics import roc_auc_score\n",
    "from sklearn.preprocessing import LabelEncoder\n",
    "import gc\n",
    "import sys\n",
    "pd.set_option('display.max_rows', None)\n",
    "\n",
    "import os\n",
    "for dirname, _, filenames in os.walk('/kaggle/input/riiid-test-answer-prediction'):\n",
    "    for filename in filenames:\n",
    "        print(os.path.join(dirname, filename))\n",
    "\n"
   ]
  },
  {
   "cell_type": "code",
   "execution_count": 2,
   "metadata": {
    "_kg_hide-input": false,
    "execution": {
     "iopub.execute_input": "2020-11-26T07:35:13.084410Z",
     "iopub.status.busy": "2020-11-26T07:35:13.083577Z",
     "iopub.status.idle": "2020-11-26T07:35:32.603802Z",
     "shell.execute_reply": "2020-11-26T07:35:32.604336Z"
    },
    "papermill": {
     "duration": 19.53987,
     "end_time": "2020-11-26T07:35:32.604483",
     "exception": false,
     "start_time": "2020-11-26T07:35:13.064613",
     "status": "completed"
    },
    "tags": []
   },
   "outputs": [],
   "source": [
    "\n",
    "cols_to_load = ['row_id', 'user_id', 'answered_correctly', 'content_id', 'prior_question_had_explanation', 'prior_question_elapsed_time']\n",
    "train = pd.read_pickle(\"../input/riiid-train-data-multiple-formats/riiid_train.pkl.gzip\")[cols_to_load]\n",
    "train['prior_question_had_explanation'] = train['prior_question_had_explanation'].astype('bool')\n",
    "\n",
    "#print(\"Train size:\", train.shape)"
   ]
  },
  {
   "cell_type": "code",
   "execution_count": 3,
   "metadata": {
    "_kg_hide-input": false,
    "execution": {
     "iopub.execute_input": "2020-11-26T07:35:32.642465Z",
     "iopub.status.busy": "2020-11-26T07:35:32.641403Z",
     "iopub.status.idle": "2020-11-26T07:35:32.664950Z",
     "shell.execute_reply": "2020-11-26T07:35:32.664263Z"
    },
    "papermill": {
     "duration": 0.044709,
     "end_time": "2020-11-26T07:35:32.665064",
     "exception": false,
     "start_time": "2020-11-26T07:35:32.620355",
     "status": "completed"
    },
    "tags": []
   },
   "outputs": [],
   "source": [
    "\n",
    "\n",
    "questions = pd.read_csv('/kaggle/input/riiid-test-answer-prediction/questions.csv')\n",
    "lectures = pd.read_csv('/kaggle/input/riiid-test-answer-prediction/lectures.csv')\n",
    "example_test = pd.read_csv('/kaggle/input/riiid-test-answer-prediction/example_test.csv')\n",
    "example_sample_submission = pd.read_csv('/kaggle/input/riiid-test-answer-prediction/example_sample_submission.csv')"
   ]
  },
  {
   "cell_type": "code",
   "execution_count": 4,
   "metadata": {
    "execution": {
     "iopub.execute_input": "2020-11-26T07:35:32.696551Z",
     "iopub.status.busy": "2020-11-26T07:35:32.695965Z",
     "iopub.status.idle": "2020-11-26T07:35:32.698581Z",
     "shell.execute_reply": "2020-11-26T07:35:32.697968Z"
    },
    "papermill": {
     "duration": 0.019739,
     "end_time": "2020-11-26T07:35:32.698686",
     "exception": false,
     "start_time": "2020-11-26T07:35:32.678947",
     "status": "completed"
    },
    "tags": []
   },
   "outputs": [],
   "source": [
    "#train.head()"
   ]
  },
  {
   "cell_type": "code",
   "execution_count": 5,
   "metadata": {
    "execution": {
     "iopub.execute_input": "2020-11-26T07:35:32.730176Z",
     "iopub.status.busy": "2020-11-26T07:35:32.729526Z",
     "iopub.status.idle": "2020-11-26T07:35:32.732397Z",
     "shell.execute_reply": "2020-11-26T07:35:32.731794Z"
    },
    "papermill": {
     "duration": 0.02016,
     "end_time": "2020-11-26T07:35:32.732503",
     "exception": false,
     "start_time": "2020-11-26T07:35:32.712343",
     "status": "completed"
    },
    "tags": []
   },
   "outputs": [],
   "source": [
    "#train.shape"
   ]
  },
  {
   "cell_type": "code",
   "execution_count": 6,
   "metadata": {
    "execution": {
     "iopub.execute_input": "2020-11-26T07:35:32.764415Z",
     "iopub.status.busy": "2020-11-26T07:35:32.763530Z",
     "iopub.status.idle": "2020-11-26T07:35:32.766038Z",
     "shell.execute_reply": "2020-11-26T07:35:32.766523Z"
    },
    "papermill": {
     "duration": 0.020601,
     "end_time": "2020-11-26T07:35:32.766725",
     "exception": false,
     "start_time": "2020-11-26T07:35:32.746124",
     "status": "completed"
    },
    "tags": []
   },
   "outputs": [],
   "source": [
    "#train.memory_usage(deep=True)"
   ]
  },
  {
   "cell_type": "code",
   "execution_count": 7,
   "metadata": {
    "execution": {
     "iopub.execute_input": "2020-11-26T07:35:32.803426Z",
     "iopub.status.busy": "2020-11-26T07:35:32.802596Z",
     "iopub.status.idle": "2020-11-26T07:35:57.299633Z",
     "shell.execute_reply": "2020-11-26T07:35:57.299097Z"
    },
    "papermill": {
     "duration": 24.518874,
     "end_time": "2020-11-26T07:35:57.299757",
     "exception": false,
     "start_time": "2020-11-26T07:35:32.780883",
     "status": "completed"
    },
    "tags": []
   },
   "outputs": [],
   "source": [
    "\n",
    "#adding user features\n",
    "user_df = train[train.answered_correctly != -1].groupby('user_id').agg({'answered_correctly': ['count', 'mean']}).reset_index()\n",
    "user_df.columns = ['user_id', 'user_questions', 'user_mean']\n",
    "\n",
    "user_lect = train.groupby([\"user_id\", \"answered_correctly\"]).size().unstack()\n",
    "user_lect.columns = ['Lecture', 'Wrong', 'Right']\n",
    "user_lect['Lecture'] = user_lect['Lecture'].fillna(0)\n",
    "user_lect = user_lect.astype('Int64')\n",
    "user_lect['watches_lecture'] = np.where(user_lect.Lecture > 0, 1, 0)\n",
    "user_lect = user_lect.reset_index()\n",
    "user_lect = user_lect[['user_id', 'watches_lecture']]\n",
    "\n",
    "user_df = user_df.merge(user_lect, on = \"user_id\", how = \"left\")\n",
    "del user_lect\n",
    "#user_df.head()"
   ]
  },
  {
   "cell_type": "code",
   "execution_count": 8,
   "metadata": {
    "execution": {
     "iopub.execute_input": "2020-11-26T07:35:57.333872Z",
     "iopub.status.busy": "2020-11-26T07:35:57.333193Z",
     "iopub.status.idle": "2020-11-26T07:36:15.210174Z",
     "shell.execute_reply": "2020-11-26T07:36:15.209521Z"
    },
    "papermill": {
     "duration": 17.896337,
     "end_time": "2020-11-26T07:36:15.210311",
     "exception": false,
     "start_time": "2020-11-26T07:35:57.313974",
     "status": "completed"
    },
    "tags": []
   },
   "outputs": [],
   "source": [
    "\n",
    "#adding content features\n",
    "content_df = train[train.answered_correctly != -1].groupby('content_id').agg({'answered_correctly': ['count', 'mean']}).reset_index()\n",
    "content_df.columns = ['content_id', 'content_questions', 'content_mean']\n"
   ]
  },
  {
   "cell_type": "code",
   "execution_count": 9,
   "metadata": {
    "execution": {
     "iopub.execute_input": "2020-11-26T07:36:15.243076Z",
     "iopub.status.busy": "2020-11-26T07:36:15.242481Z",
     "iopub.status.idle": "2020-11-26T07:36:27.887135Z",
     "shell.execute_reply": "2020-11-26T07:36:27.886484Z"
    },
    "papermill": {
     "duration": 12.662834,
     "end_time": "2020-11-26T07:36:27.887250",
     "exception": false,
     "start_time": "2020-11-26T07:36:15.224416",
     "status": "completed"
    },
    "tags": []
   },
   "outputs": [],
   "source": [
    "\n",
    "#using one of the validation sets composed by tito\n",
    "cv2_train = pd.read_pickle(\"../input/riiid-cross-validation-files/cv2_train.pickle\")['row_id']\n",
    "cv2_valid = pd.read_pickle(\"../input/riiid-cross-validation-files/cv2_valid.pickle\")['row_id']"
   ]
  },
  {
   "cell_type": "code",
   "execution_count": 10,
   "metadata": {
    "execution": {
     "iopub.execute_input": "2020-11-26T07:36:27.921424Z",
     "iopub.status.busy": "2020-11-26T07:36:27.920780Z",
     "iopub.status.idle": "2020-11-26T07:37:12.253623Z",
     "shell.execute_reply": "2020-11-26T07:37:12.254161Z"
    },
    "papermill": {
     "duration": 44.352921,
     "end_time": "2020-11-26T07:37:12.254307",
     "exception": false,
     "start_time": "2020-11-26T07:36:27.901386",
     "status": "completed"
    },
    "tags": []
   },
   "outputs": [
    {
     "data": {
      "text/plain": [
       "60"
      ]
     },
     "execution_count": 10,
     "metadata": {},
     "output_type": "execute_result"
    }
   ],
   "source": [
    "train = train[train.answered_correctly != -1]\n",
    "\n",
    "#save mean before splitting\n",
    "#please be aware that there is an issues with train.prior_question_elapsed_time.mean()\n",
    "#see https://www.kaggle.com/c/riiid-test-answer-prediction/discussion/195032\n",
    "mean_prior = train.prior_question_elapsed_time.astype(\"float64\").mean()\n",
    "\n",
    "validation = train[train.row_id.isin(cv2_valid)]\n",
    "train = train[train.row_id.isin(cv2_train)]\n",
    "\n",
    "validation = validation.drop(columns = \"row_id\")\n",
    "train = train.drop(columns = \"row_id\")\n",
    "\n",
    "del cv2_train, cv2_valid\n",
    "gc.collect()"
   ]
  },
  {
   "cell_type": "code",
   "execution_count": 11,
   "metadata": {
    "execution": {
     "iopub.execute_input": "2020-11-26T07:37:12.291659Z",
     "iopub.status.busy": "2020-11-26T07:37:12.290981Z",
     "iopub.status.idle": "2020-11-26T07:37:56.696280Z",
     "shell.execute_reply": "2020-11-26T07:37:56.695654Z"
    },
    "papermill": {
     "duration": 44.427889,
     "end_time": "2020-11-26T07:37:56.696437",
     "exception": false,
     "start_time": "2020-11-26T07:37:12.268548",
     "status": "completed"
    },
    "tags": []
   },
   "outputs": [],
   "source": [
    "label_enc = LabelEncoder()\n",
    "\n",
    "train = train.merge(user_df, on = \"user_id\", how = \"left\")\n",
    "train = train.merge(content_df, on = \"content_id\", how = \"left\")\n",
    "train['content_questions'].fillna(0, inplace = True)\n",
    "train['content_mean'].fillna(0.5, inplace = True)\n",
    "train['watches_lecture'].fillna(0, inplace = True)\n",
    "train['user_questions'].fillna(0, inplace = True)\n",
    "train['user_mean'].fillna(0.5, inplace = True)\n",
    "train['prior_question_elapsed_time'].fillna(mean_prior, inplace = True)\n",
    "train['prior_question_had_explanation'].fillna(False, inplace = True)\n",
    "train['prior_question_had_explanation'] = label_enc.fit_transform(train['prior_question_had_explanation'])\n",
    "train[['content_questions', 'user_questions']] = train[['content_questions', 'user_questions']].astype(int)\n",
    "#train.sample(5)"
   ]
  },
  {
   "cell_type": "code",
   "execution_count": 12,
   "metadata": {
    "execution": {
     "iopub.execute_input": "2020-11-26T07:37:56.735155Z",
     "iopub.status.busy": "2020-11-26T07:37:56.734508Z",
     "iopub.status.idle": "2020-11-26T07:37:57.695070Z",
     "shell.execute_reply": "2020-11-26T07:37:57.695552Z"
    },
    "papermill": {
     "duration": 0.984352,
     "end_time": "2020-11-26T07:37:57.695708",
     "exception": false,
     "start_time": "2020-11-26T07:37:56.711356",
     "status": "completed"
    },
    "tags": []
   },
   "outputs": [],
   "source": [
    "validation = validation.merge(user_df, on = \"user_id\", how = \"left\")\n",
    "validation = validation.merge(content_df, on = \"content_id\", how = \"left\")\n",
    "validation['content_questions'].fillna(0, inplace = True)\n",
    "validation['content_mean'].fillna(0.5, inplace = True)\n",
    "validation['watches_lecture'].fillna(0, inplace = True)\n",
    "validation['user_questions'].fillna(0, inplace = True)\n",
    "validation['user_mean'].fillna(0.5, inplace = True)\n",
    "validation['prior_question_elapsed_time'].fillna(mean_prior, inplace = True)\n",
    "validation['prior_question_had_explanation'].fillna(False, inplace = True)\n",
    "validation['prior_question_had_explanation'] = label_enc.fit_transform(validation['prior_question_had_explanation'])\n",
    "validation[['content_questions', 'user_questions']] = validation[['content_questions', 'user_questions']].astype(int)\n",
    "#validation.sample(5)"
   ]
  },
  {
   "cell_type": "code",
   "execution_count": 13,
   "metadata": {
    "execution": {
     "iopub.execute_input": "2020-11-26T07:37:57.731233Z",
     "iopub.status.busy": "2020-11-26T07:37:57.730599Z",
     "iopub.status.idle": "2020-11-26T07:38:04.744241Z",
     "shell.execute_reply": "2020-11-26T07:38:04.743682Z"
    },
    "papermill": {
     "duration": 7.034284,
     "end_time": "2020-11-26T07:38:04.744379",
     "exception": false,
     "start_time": "2020-11-26T07:37:57.710095",
     "status": "completed"
    },
    "tags": []
   },
   "outputs": [],
   "source": [
    "# features = ['user_questions', 'user_mean', 'content_questions', 'content_mean', 'watches_lecture',\n",
    "#             'prior_question_elapsed_time', 'prior_question_had_explanation']\n",
    "\n",
    "features = ['user_questions', 'user_mean', 'content_questions', 'content_mean', 'prior_question_elapsed_time']\n",
    "\n",
    "\n",
    "#for now just taking 10.000.000 rows for training\n",
    "train = train.sample(n=10000000, random_state = 1)\n",
    "\n",
    "y_train = train['answered_correctly']\n",
    "train = train[features]\n",
    "\n",
    "y_val = validation['answered_correctly']\n",
    "validation = validation[features]\n"
   ]
  },
  {
   "cell_type": "code",
   "execution_count": 14,
   "metadata": {
    "execution": {
     "iopub.execute_input": "2020-11-26T07:38:04.778799Z",
     "iopub.status.busy": "2020-11-26T07:38:04.777823Z",
     "iopub.status.idle": "2020-11-26T07:38:04.780994Z",
     "shell.execute_reply": "2020-11-26T07:38:04.780381Z"
    },
    "papermill": {
     "duration": 0.022197,
     "end_time": "2020-11-26T07:38:04.781101",
     "exception": false,
     "start_time": "2020-11-26T07:38:04.758904",
     "status": "completed"
    },
    "tags": []
   },
   "outputs": [],
   "source": [
    "params = {'objective': 'binary',\n",
    "          'metric': 'auc',\n",
    "          'seed': 2020,\n",
    "          'learning_rate': 0.1, #default\n",
    "          \"boosting_type\": \"gbdt\" #default\n",
    "         }"
   ]
  },
  {
   "cell_type": "code",
   "execution_count": 15,
   "metadata": {
    "execution": {
     "iopub.execute_input": "2020-11-26T07:38:04.903383Z",
     "iopub.status.busy": "2020-11-26T07:38:04.902381Z",
     "iopub.status.idle": "2020-11-26T07:38:04.906118Z",
     "shell.execute_reply": "2020-11-26T07:38:04.905627Z"
    },
    "papermill": {
     "duration": 0.110701,
     "end_time": "2020-11-26T07:38:04.906237",
     "exception": false,
     "start_time": "2020-11-26T07:38:04.795536",
     "status": "completed"
    },
    "tags": []
   },
   "outputs": [
    {
     "data": {
      "text/plain": [
       "80"
      ]
     },
     "execution_count": 15,
     "metadata": {},
     "output_type": "execute_result"
    }
   ],
   "source": [
    "# lgb_train = lgb.Dataset(train, y_train, categorical_feature = ['watches_lecture', 'prior_question_had_explanation'])\n",
    "# lgb_eval = lgb.Dataset(validation, y_val, categorical_feature = ['watches_lecture', 'prior_question_had_explanation'])\n",
    "lgb_train = lgb.Dataset(train, y_train, categorical_feature = None)\n",
    "lgb_eval = lgb.Dataset(validation, y_val, categorical_feature = None)\n",
    "del train, y_train, validation, y_val\n",
    "gc.collect()"
   ]
  },
  {
   "cell_type": "code",
   "execution_count": 16,
   "metadata": {
    "execution": {
     "iopub.execute_input": "2020-11-26T07:38:04.940986Z",
     "iopub.status.busy": "2020-11-26T07:38:04.940282Z",
     "iopub.status.idle": "2020-11-26T07:49:59.978592Z",
     "shell.execute_reply": "2020-11-26T07:49:59.979585Z"
    },
    "papermill": {
     "duration": 715.059839,
     "end_time": "2020-11-26T07:49:59.980740",
     "exception": false,
     "start_time": "2020-11-26T07:38:04.920901",
     "status": "completed"
    },
    "tags": []
   },
   "outputs": [
    {
     "name": "stdout",
     "output_type": "stream",
     "text": [
      "Training until validation scores don't improve for 8 rounds\n",
      "[50]\ttraining's auc: 0.757093\tvalid_1's auc: 0.762699\n",
      "[100]\ttraining's auc: 0.757629\tvalid_1's auc: 0.763182\n",
      "[150]\ttraining's auc: 0.75783\tvalid_1's auc: 0.76329\n",
      "[200]\ttraining's auc: 0.757989\tvalid_1's auc: 0.763359\n",
      "[250]\ttraining's auc: 0.758123\tvalid_1's auc: 0.763419\n",
      "Early stopping, best iteration is:\n",
      "[284]\ttraining's auc: 0.758218\tvalid_1's auc: 0.763463\n"
     ]
    }
   ],
   "source": [
    "#%%time\n",
    "model = lgb.train(\n",
    "    params, lgb_train,\n",
    "    valid_sets=[lgb_train, lgb_eval],\n",
    "    verbose_eval=50,\n",
    "    num_boost_round=10000,\n",
    "    early_stopping_rounds=8\n",
    ")"
   ]
  },
  {
   "cell_type": "code",
   "execution_count": 17,
   "metadata": {
    "execution": {
     "iopub.execute_input": "2020-11-26T07:50:00.043064Z",
     "iopub.status.busy": "2020-11-26T07:50:00.042058Z",
     "iopub.status.idle": "2020-11-26T07:50:00.044995Z",
     "shell.execute_reply": "2020-11-26T07:50:00.044053Z"
    },
    "papermill": {
     "duration": 0.037616,
     "end_time": "2020-11-26T07:50:00.045152",
     "exception": false,
     "start_time": "2020-11-26T07:50:00.007536",
     "status": "completed"
    },
    "tags": []
   },
   "outputs": [],
   "source": [
    "#lgb.plot_importance(model)\n",
    "#plt.show()"
   ]
  },
  {
   "cell_type": "code",
   "execution_count": 18,
   "metadata": {
    "execution": {
     "iopub.execute_input": "2020-11-26T07:50:00.123913Z",
     "iopub.status.busy": "2020-11-26T07:50:00.123166Z",
     "iopub.status.idle": "2020-11-26T07:50:00.126189Z",
     "shell.execute_reply": "2020-11-26T07:50:00.125666Z"
    },
    "papermill": {
     "duration": 0.036214,
     "end_time": "2020-11-26T07:50:00.126302",
     "exception": false,
     "start_time": "2020-11-26T07:50:00.090088",
     "status": "completed"
    },
    "tags": []
   },
   "outputs": [],
   "source": [
    "env = riiideducation.make_env()"
   ]
  },
  {
   "cell_type": "code",
   "execution_count": 19,
   "metadata": {
    "execution": {
     "iopub.execute_input": "2020-11-26T07:50:00.164600Z",
     "iopub.status.busy": "2020-11-26T07:50:00.163639Z",
     "iopub.status.idle": "2020-11-26T07:50:00.166968Z",
     "shell.execute_reply": "2020-11-26T07:50:00.166255Z"
    },
    "papermill": {
     "duration": 0.0242,
     "end_time": "2020-11-26T07:50:00.167097",
     "exception": false,
     "start_time": "2020-11-26T07:50:00.142897",
     "status": "completed"
    },
    "tags": []
   },
   "outputs": [],
   "source": [
    "iter_test = env.iter_test()"
   ]
  },
  {
   "cell_type": "code",
   "execution_count": 20,
   "metadata": {
    "execution": {
     "iopub.execute_input": "2020-11-26T07:50:00.219226Z",
     "iopub.status.busy": "2020-11-26T07:50:00.218266Z",
     "iopub.status.idle": "2020-11-26T07:50:00.633919Z",
     "shell.execute_reply": "2020-11-26T07:50:00.635027Z"
    },
    "papermill": {
     "duration": 0.451577,
     "end_time": "2020-11-26T07:50:00.635224",
     "exception": false,
     "start_time": "2020-11-26T07:50:00.183647",
     "status": "completed"
    },
    "tags": []
   },
   "outputs": [],
   "source": [
    "for (test_df, sample_prediction_df) in iter_test:\n",
    "    test_df = test_df.merge(user_df, on = \"user_id\", how = \"left\")\n",
    "    test_df = test_df.merge(content_df, on = \"content_id\", how = \"left\")\n",
    "    test_df['content_questions'].fillna(0, inplace = True)\n",
    "    test_df['content_mean'].fillna(0.5, inplace = True)\n",
    "    test_df['watches_lecture'].fillna(0, inplace = True)\n",
    "    test_df['user_questions'].fillna(0, inplace = True)\n",
    "    test_df['user_mean'].fillna(0.5, inplace = True)\n",
    "    test_df['prior_question_elapsed_time'].fillna(mean_prior, inplace = True)\n",
    "    test_df['prior_question_had_explanation'].fillna(False, inplace = True)\n",
    "    test_df['prior_question_had_explanation'] = label_enc.fit_transform(test_df['prior_question_had_explanation'])\n",
    "    test_df[['content_questions', 'user_questions']] = test_df[['content_questions', 'user_questions']].astype(int)\n",
    "    test_df['answered_correctly'] =  model.predict(test_df[features])\n",
    "    env.predict(test_df.loc[test_df['content_type_id'] == 0, ['row_id', 'answered_correctly']])"
   ]
  }
 ],
 "metadata": {
  "kernelspec": {
   "display_name": "Python 3",
   "language": "python",
   "name": "python3"
  },
  "language_info": {
   "codemirror_mode": {
    "name": "ipython",
    "version": 3
   },
   "file_extension": ".py",
   "mimetype": "text/x-python",
   "name": "python",
   "nbconvert_exporter": "python",
   "pygments_lexer": "ipython3",
   "version": "3.7.6"
  },
  "papermill": {
   "duration": 892.733692,
   "end_time": "2020-11-26T07:50:00.772915",
   "environment_variables": {},
   "exception": null,
   "input_path": "__notebook__.ipynb",
   "output_path": "__notebook__.ipynb",
   "parameters": {},
   "start_time": "2020-11-26T07:35:08.039223",
   "version": "2.1.0"
  }
 },
 "nbformat": 4,
 "nbformat_minor": 4
}
